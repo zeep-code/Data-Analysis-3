{
 "cells": [
  {
   "cell_type": "markdown",
   "id": "48e7cce4-05aa-48bf-b510-058528772035",
   "metadata": {},
   "source": [
    "***DA3 Assignment 2 - Finding Fast Growing Firms***\n",
    "\n",
    "**Muhammad Hamza Dhich 2304086**\n",
    "\n",
    "**Zunaira Pasha 2203204**"
   ]
  },
  {
   "cell_type": "markdown",
   "id": "35fe40f2-1b3f-409f-a4ea-d22647f81eed",
   "metadata": {},
   "source": [
    "### Importing Libraries"
   ]
  },
  {
   "cell_type": "code",
   "execution_count": 462,
   "id": "f27d9ab2-9776-48a1-815d-5df9eecc881f",
   "metadata": {
    "id": "f27d9ab2-9776-48a1-815d-5df9eecc881f"
   },
   "outputs": [],
   "source": [
    "import pandas as pd\n",
    "import numpy as np\n",
    "import statsmodels.api as sm\n",
    "from sklearn.model_selection import train_test_split, cross_val_score\n",
    "from sklearn.preprocessing import StandardScaler\n",
    "from sklearn.linear_model import LogisticRegression\n",
    "from sklearn.ensemble import RandomForestClassifier\n",
    "from sklearn.metrics import roc_auc_score, accuracy_score, confusion_matrix, classification_report\n",
    "\n",
    "import os\n",
    "import sys\n",
    "import warnings\n",
    "\n",
    "import matplotlib.pyplot as plt\n",
    "import numpy as np\n",
    "import pandas as pd\n",
    "import patsy\n",
    "import sklearn.metrics as metrics\n",
    "import statsmodels.formula.api as smf\n",
    "from plotnine import *\n",
    "from sklearn.ensemble import RandomForestClassifier\n",
    "from sklearn.linear_model import (\n",
    "    LinearRegression,\n",
    "    LogisticRegression,\n",
    "    LogisticRegressionCV,\n",
    ")\n",
    "from sklearn.metrics import (\n",
    "    auc,\n",
    "    brier_score_loss,\n",
    "    confusion_matrix,\n",
    "    mean_squared_error,\n",
    "    roc_auc_score,\n",
    "    roc_curve,\n",
    ")\n",
    "from sklearn.model_selection import GridSearchCV, KFold, train_test_split\n",
    "from sklearn.preprocessing import StandardScaler\n",
    "from statsmodels.tools.eval_measures import rmse\n",
    "\n",
    "warnings.filterwarnings(\"ignore\")\n",
    "\n",
    "\n",
    "import os\n",
    "import matplotlib.pyplot as plt\n",
    "import seaborn as sns"
   ]
  },
  {
   "cell_type": "markdown",
   "id": "eba66d10-6a72-4754-97bf-33ad6cd5a965",
   "metadata": {},
   "source": [
    "## Data Preparation"
   ]
  },
  {
   "cell_type": "code",
   "execution_count": 523,
   "id": "25aa9710-9f1b-4ddf-97d0-18ba088ced5f",
   "metadata": {},
   "outputs": [],
   "source": [
    "import os\n",
    "import urllib.request\n",
    "\n",
    "osf_url = \"https://osf.io/download/qwgyk\"\n",
    "destination_path = \"py_helper_functions.py\"  # Save it locally with this name\n",
    "\n",
    "# Download the file from OSF and save it\n",
    "urllib.request.urlretrieve(osf_url, destination_path)\n",
    "\n",
    "# Now we can import it\n",
    "import py_helper_functions\n"
   ]
  },
  {
   "cell_type": "code",
   "execution_count": 525,
   "id": "a11de81a-7ca6-4b05-95da-8fa7ab83fc42",
   "metadata": {},
   "outputs": [],
   "source": [
    "current_directory = os.getcwd()"
   ]
  },
  {
   "cell_type": "code",
   "execution_count": 527,
   "id": "5aaa1a6d-d7e0-4c38-95a1-2d1fbc63d9b2",
   "metadata": {
    "id": "5aaa1a6d-d7e0-4c38-95a1-2d1fbc63d9b2"
   },
   "outputs": [],
   "source": [
    "data = pd.read_csv(\"https://osf.io/download/3qyut/\")"
   ]
  },
  {
   "cell_type": "code",
   "execution_count": 529,
   "id": "331fa8a7-6805-496a-a8f3-15ac6139b175",
   "metadata": {
    "id": "331fa8a7-6805-496a-a8f3-15ac6139b175",
    "outputId": "93b9664a-fcfd-4ee1-9152-1acc300733cb"
   },
   "outputs": [
    {
     "data": {
      "text/plain": [
       "founded_date             51\n",
       "share_eq                131\n",
       "liq_assets              131\n",
       "inventories             131\n",
       "subscribed_cap          131\n",
       "fixed_assets            131\n",
       "curr_liab               131\n",
       "curr_assets             131\n",
       "intang_assets           140\n",
       "region_m                840\n",
       "nace_main              1038\n",
       "ind2                   1038\n",
       "tang_assets            1470\n",
       "inc_bef_tax            7437\n",
       "sales                  7437\n",
       "personnel_exp          8040\n",
       "amort                  8040\n",
       "material_exp           8040\n",
       "ind                    9769\n",
       "profit_loss_year       9884\n",
       "extra_profit_loss     17203\n",
       "extra_inc             18529\n",
       "extra_exp             18529\n",
       "origin                56427\n",
       "gender                56427\n",
       "ceo_count             56427\n",
       "foreign               56427\n",
       "female                56427\n",
       "inoffice_days         56427\n",
       "founded_year          56457\n",
       "birth_year           111818\n",
       "labor_avg            146532\n",
       "exit_date            231649\n",
       "exit_year            248970\n",
       "net_exp_sales        269572\n",
       "net_dom_sales        269572\n",
       "COGS                 269572\n",
       "wages                269846\n",
       "finished_prod        270344\n",
       "D                    287829\n",
       "dtype: int64"
      ]
     },
     "execution_count": 529,
     "metadata": {},
     "output_type": "execute_result"
    }
   ],
   "source": [
    "# Count NAs in each column\n",
    "to_filter = data.isna().sum()\n",
    "# Sort and show only columns with missing values\n",
    "to_filter = to_filter[to_filter > 0].sort_values()\n",
    "to_filter"
   ]
  },
  {
   "cell_type": "code",
   "execution_count": 531,
   "id": "68034624-6fd5-480c-8e28-6290a5a6f0ab",
   "metadata": {
    "id": "68034624-6fd5-480c-8e28-6290a5a6f0ab"
   },
   "outputs": [],
   "source": [
    "# Drop specific columns\n",
    "columns_to_drop = ['COGS', 'finished_prod', 'net_dom_sales', 'net_exp_sales', 'wages', 'D']\n",
    "data = data.drop(columns=columns_to_drop)\n",
    "\n",
    "# Filter years between 2010-2015\n",
    "data = data[(data['year'] >= 2010) & (data['year'] <= 2015)]"
   ]
  },
  {
   "cell_type": "markdown",
   "id": "097ceacd-26f8-4bd5-98b1-d49ffc90b6d6",
   "metadata": {},
   "source": [
    "\n",
    "### Label Engineering"
   ]
  },
  {
   "cell_type": "code",
   "execution_count": 534,
   "id": "06591c00-8452-47d9-9c01-a211e1bb38d7",
   "metadata": {
    "id": "06591c00-8452-47d9-9c01-a211e1bb38d7",
    "outputId": "dc2aaa39-a64b-4941-a39e-38a2d90afd88"
   },
   "outputs": [
    {
     "data": {
      "text/plain": [
       "count    1.638640e+05\n",
       "mean     4.662059e+05\n",
       "std      3.789100e+06\n",
       "min     -2.553889e+05\n",
       "25%      3.092593e+03\n",
       "50%      2.697037e+04\n",
       "75%      1.060620e+05\n",
       "max      1.110294e+08\n",
       "Name: sales, dtype: float64"
      ]
     },
     "execution_count": 534,
     "metadata": {},
     "output_type": "execute_result"
    }
   ],
   "source": [
    "\n",
    "# generate status_alive to check if the firm is still alive\n",
    "data['status_alive'] = ((data['sales'] > 0) & (~data['sales'].isna())).astype(int)\n",
    "\n",
    "# Create log sales and sales in million\n",
    "# Handle negative sales values\n",
    "data['sales'].describe()"
   ]
  },
  {
   "cell_type": "code",
   "execution_count": 536,
   "id": "e8f4b726-b726-4321-ac35-37ceaa3778e0",
   "metadata": {
    "id": "e8f4b726-b726-4321-ac35-37ceaa3778e0",
    "outputId": "763fb7cb-1ca8-40a1-aec4-db23589caff8"
   },
   "outputs": [],
   "source": [
    "# Replace negative sales with 1, create log transformations\n",
    "data['sales'] = np.where(data['sales'] < 0, 1, data['sales'])\n",
    "data['ln_sales'] = np.where(data['sales'] > 0, np.log(data['sales']), 0)\n",
    "data['sales_mil'] = data['sales']/1000000\n",
    "data['sales_mil_log'] = np.where(data['sales'] > 0, np.log(data['sales_mil']), 0)\n",
    "data['sales_mil_log_sq'] = data['sales_mil_log']**2\n",
    "\n",
    "# Filter out non-alive firms and focus on specific revenue range\n",
    "data = data[data['status_alive'] == 1]\n",
    "data = data[~(data['sales_mil'] > 10)]  # not greater than 10m\n",
    "data = data[~(data['sales_mil'] < 0.001)]  # not less than 1000 euros\n",
    "\n",
    "# Keep only firms with data for all 6 years\n",
    "# Group by company ID and count records\n",
    "firm_counts = data.groupby('comp_id').size()\n",
    "firms_with_6_years = firm_counts[firm_counts == 6].index\n",
    "data = data[data['comp_id'].isin(firms_with_6_years)]\n",
    "\n",
    "# Calculate change in sales (first difference)\n",
    "# First sort data to ensure proper lag calculation\n",
    "data = data.sort_values(['comp_id', 'year'])\n",
    "# Create a shifted version for each company\n",
    "data['sales_mil_log_lagged'] = data.groupby('comp_id')['sales_mil_log'].shift(1)\n",
    "data['d1_sales_mil_log'] = data['sales_mil_log'] - data['sales_mil_log_lagged']\n",
    "# Remove the temporary column if desired\n",
    "data = data.drop(columns=['sales_mil_log_lagged'])"
   ]
  },
  {
   "cell_type": "code",
   "execution_count": 538,
   "id": "95ae916e-95e6-457c-beeb-4cd9fab8a6c8",
   "metadata": {
    "id": "95ae916e-95e6-457c-beeb-4cd9fab8a6c8",
    "outputId": "bf92ac23-81b1-4dce-ada0-ed7108229b2d"
   },
   "outputs": [
    {
     "data": {
      "text/plain": [
       "count    71154.000000\n",
       "mean         0.021873\n",
       "std          0.499078\n",
       "min         -6.522003\n",
       "25%         -0.093087\n",
       "50%          0.000000\n",
       "75%          0.161890\n",
       "max          8.326700\n",
       "Name: d1_sales_mil_log, dtype: float64"
      ]
     },
     "execution_count": 538,
     "metadata": {},
     "output_type": "execute_result"
    }
   ],
   "source": [
    "# Calculate age and create a 'new' firm indicator\n",
    "data['age'] = np.where((data['year'] - data['founded_year']) < 0,\n",
    "                       0,\n",
    "                       data['year'] - data['founded_year'])\n",
    "\n",
    "# Create 'new' flag for firms less than or equal to 1 year old\n",
    "data['new'] = (data['age'] <= 1).astype(int)\n",
    "\n",
    "# Adjust 'new' flag based on incomplete balance sheet information\n",
    "data['new'] = np.where(data['balsheet_notfullyear'] == 1,\n",
    "                      1,\n",
    "                      data['new'])\n",
    "\n",
    "# Set sales growth to 0 for new firms\n",
    "data['d1_sales_mil_log'] = np.where(data['new'] == 1,\n",
    "                                   0,\n",
    "                                   data['d1_sales_mil_log'])\n",
    "\n",
    "# Mark firms with missing growth data as new\n",
    "data['new'] = np.where(data['d1_sales_mil_log'].isna(),\n",
    "                      1,\n",
    "                      data['new'])\n",
    "\n",
    "# Replace missing growth values with 0\n",
    "data['d1_sales_mil_log'] = np.where(data['d1_sales_mil_log'].isna(),\n",
    "                                   0,\n",
    "                                   data['d1_sales_mil_log'])\n",
    "\n",
    "# Create flags for extreme growth values\n",
    "data['flag_low_d1_sales_mil_log'] = np.where(data['d1_sales_mil_log'] < -1.5, 1, 0)\n",
    "data['flag_high_d1_sales_mil_log'] = np.where(data['d1_sales_mil_log'] > 1.5, 1, 0)\n",
    "\n",
    "# Create a modified growth variable with capped values (between -1.5 and 1.5)\n",
    "data['d1_sales_mil_log_mod'] = np.where(data['d1_sales_mil_log'] < -1.5, -1.5,\n",
    "                                      np.where(data['d1_sales_mil_log'] > 1.5, 1.5,\n",
    "                                             data['d1_sales_mil_log']))\n",
    "\n",
    "# Create squared term for the modified growth variable\n",
    "data['d1_sales_mil_log_mod_sq'] = data['d1_sales_mil_log_mod']**2\n",
    "\n",
    "# Show summary statistics for the growth variable\n",
    "data['d1_sales_mil_log'].describe()"
   ]
  },
  {
   "cell_type": "markdown",
   "id": "0478707b-6bc0-4655-8e29-f8b3f67559a3",
   "metadata": {},
   "source": [
    "**Choosing CAGR over 2 years as fast growth indicator :**\n",
    "\n",
    "The fast growth indicator we chose is based on a CAGR above 20% over two years, as it reflects sustained expansion rather than short-term spikes. To calculate this, we shift sales data forward by two years, compute CAGR, and filter out extreme values above 200%. Using CAGR instead of one-year growth provides a more reliable measure of long-term performance, avoiding distortions from temporary factors like seasonality or one-time events. Finally, firms exceeding 20% CAGR are classified as fast-growing (1), helping investors identify companies with consistent and scalable growth potential.\n"
   ]
  },
  {
   "cell_type": "code",
   "execution_count": 541,
   "id": "4ed42ec7-af33-4382-9bad-fa0f18235177",
   "metadata": {
    "id": "4ed42ec7-af33-4382-9bad-fa0f18235177",
    "outputId": "ff1ae788-28df-4c3b-dad3-5dd74a319cf5"
   },
   "outputs": [],
   "source": [
    "# Calculate Compound Annual Growth Rate (CAGR) for sales over 2 years\n",
    "# First sort to ensure proper calculation\n",
    "data = data.sort_values(['comp_id', 'year'])\n",
    "\n",
    "# Calculate CAGR for each company\n",
    "data['future_sales_mil'] = data.groupby('comp_id')['sales_mil'].shift(-2)  # sales 2 years later\n",
    "data['cagr_sales'] = ((data['future_sales_mil'] / data['sales_mil'])**(1/2) - 1) * 100\n",
    "\n",
    "# Filter the dataset\n",
    "data = data[\n",
    "    (data['year'] == 2012) &\n",
    "    (~data['cagr_sales'].isna()) &\n",
    "    (data['cagr_sales'] <= 200)\n",
    "]\n",
    "\n",
    "# Create fast growth dummy variable (firms with >20% CAGR)\n",
    "data['fast_growth'] = (data['cagr_sales'] > 20).astype(int)\n",
    "\n",
    "\n",
    "\n",
    "# Calculate age as year minus founding year (without replacing negatives)\n",
    "data['age'] = data['year'] - data['founded_year']\n",
    "\n",
    "\n",
    "\n",
    "\n"
   ]
  },
  {
   "cell_type": "code",
   "execution_count": 543,
   "id": "52eb507f-3ab3-4df5-8057-f7a30199a899",
   "metadata": {},
   "outputs": [
    {
     "data": {
      "image/png": "[encoded data removed]",
      "text/plain": [
       "<Figure size 1000x600 with 1 Axes>"
      ]
     },
     "metadata": {},
     "output_type": "display_data"
    }
   ],
   "source": [
    "# Create a histogram of CAGR sales growth\n",
    "\n",
    "plt.figure(figsize=(10, 6))\n",
    "sns.histplot(data['cagr_sales'], bins=30, color='#440154', alpha=0.8,\n",
    "             stat='density', edgecolor='white')\n",
    "plt.xlim(-100, 200)\n",
    "plt.xlabel('CAGR growth')\n",
    "plt.ylabel('Density')\n",
    "plt.title('Distribution of 2-Year CAGR Sales Growth')\n",
    "plt.tight_layout()\n",
    "plt.show()\n"
   ]
  },
  {
   "cell_type": "code",
   "execution_count": 545,
   "id": "21e1c3ea-8255-47dc-9b43-77c3592ad72f",
   "metadata": {},
   "outputs": [
    {
     "name": "stdout",
     "output_type": "stream",
     "text": [
      "count    11747.000000\n",
      "mean         7.697635\n",
      "std         32.619771\n",
      "min        -94.845325\n",
      "25%         -8.061568\n",
      "50%          4.759107\n",
      "75%         19.048948\n",
      "max        198.692205\n",
      "Name: cagr_sales, dtype: float64\n"
     ]
    }
   ],
   "source": [
    "# Display descriptive statistics\n",
    "print(data['cagr_sales'].describe())\n"
   ]
  },
  {
   "cell_type": "code",
   "execution_count": 547,
   "id": "24a64d84-8dd7-48c1-94a4-c4fdc9c1a8f3",
   "metadata": {},
   "outputs": [
    {
     "name": "stdout",
     "output_type": "stream",
     "text": [
      "count    1.174700e+04\n",
      "mean     1.543986e+11\n",
      "std      1.381854e+11\n",
      "min      1.002029e+06\n",
      "25%      2.940722e+10\n",
      "50%      1.158341e+11\n",
      "75%      2.592432e+11\n",
      "max      4.641050e+11\n",
      "Name: comp_id, dtype: float64\n"
     ]
    }
   ],
   "source": [
    "print(data['comp_id'].describe())"
   ]
  },
  {
   "cell_type": "code",
   "execution_count": 549,
   "id": "9b79ef8a-1522-43eb-a348-701df35e993e",
   "metadata": {},
   "outputs": [
    {
     "name": "stdout",
     "output_type": "stream",
     "text": [
      "count    11747.000000\n",
      "mean         0.239380\n",
      "std          0.426723\n",
      "min          0.000000\n",
      "25%          0.000000\n",
      "50%          0.000000\n",
      "75%          0.000000\n",
      "max          1.000000\n",
      "Name: fast_growth, dtype: float64\n"
     ]
    }
   ],
   "source": [
    "print(data['fast_growth'].describe())"
   ]
  },
  {
   "cell_type": "markdown",
   "id": "d53faecf-3619-47ff-9439-b585c7f081ca",
   "metadata": {},
   "source": [
    "### Feature Engineering"
   ]
  },
  {
   "cell_type": "code",
   "execution_count": 552,
   "id": "065ac6e8-96a8-4546-94aa-9daa5f93eaa6",
   "metadata": {
    "id": "70746068-b04d-4916-a497-081cb8ce3879"
   },
   "outputs": [],
   "source": [
    "\n",
    "# Change some industry category codes\n",
    "data['ind2_cat'] = np.where(data['ind2'] > 56, 60, data['ind2'])\n",
    "data['ind2_cat'] = np.where(data['ind2_cat'] < 26, 20, data['ind2_cat'])\n",
    "data['ind2_cat'] = np.where((data['ind2_cat'] < 55) & (data['ind2_cat'] > 35), 40, data['ind2_cat'])\n",
    "data['ind2_cat'] = np.where(data['ind2_cat'] == 31, 30, data['ind2_cat'])\n",
    "data['ind2_cat'] = np.where(data['ind2_cat'].isna(), 99, data['ind2_cat'])\n",
    "\n",
    "# Firm Characteristics\n",
    "data['age2'] = data['age'] ** 2\n",
    "data['foreign_management'] = (data['foreign'] >= 0.5).astype(int)\n",
    "data['gender_m'] = pd.Categorical(data['gender'], categories=[\"female\", \"male\", \"mix\"], ordered=False)\n",
    "data['m_region_loc'] = pd.Categorical(data['region_m'], categories=[\"Central\", \"East\", \"West\"], ordered=False)\n",
    "\n",
    "# Financial Variables - Handling Negative Assets\n",
    "data['flag_asset_problem'] = ((data[['intang_assets', 'curr_assets', 'fixed_assets']] < 0).any(axis=1)).astype(int)\n",
    "data[['intang_assets', 'curr_assets', 'fixed_assets']] = data[['intang_assets', 'curr_assets', 'fixed_assets']].clip(lower=0)\n",
    "\n",
    "# Generate total assets\n",
    "data['total_assets_bs'] = data[['intang_assets', 'curr_assets', 'fixed_assets']].sum(axis=1)\n",
    "\n",
    "# Creating financial ratios\n",
    "pl_names = [\"extra_exp\", \"extra_inc\", \"extra_profit_loss\", \"inc_bef_tax\", \"inventories\", \"material_exp\", \"profit_loss_year\", \"personnel_exp\"]\n",
    "bs_names = [\"intang_assets\", \"curr_liab\", \"fixed_assets\", \"liq_assets\", \"curr_assets\", \"share_eq\", \"subscribed_cap\", \"tang_assets\"]\n",
    "\n",
    "data[[f\"{col}_pl\" for col in pl_names]] = data[pl_names].div(data['sales'], axis=0)\n",
    "data[[f\"{col}_bs\" for col in bs_names]] = data[bs_names].div(data['total_assets_bs'].replace(0, np.nan), axis=0)\n",
    "\n",
    "# Creating flags for variables that shouldn't exceed 1\n",
    "zero_vars = [f\"{col}_pl\" for col in [\"extra_exp\", \"extra_inc\", \"inventories\", \"material_exp\", \"personnel_exp\"]] + [f\"{col}_bs\" for col in [\"curr_liab\", \"fixed_assets\", \"liq_assets\", \"curr_assets\", \"subscribed_cap\", \"intang_assets\"]]\n",
    "\n",
    "data[[f\"{col}_flag_high\" for col in zero_vars]] = (data[zero_vars] > 1).astype(int)\n",
    "data[zero_vars] = data[zero_vars].clip(upper=1)\n",
    "data[[f\"{col}_flag_error\" for col in zero_vars]] = (data[zero_vars] < 0).astype(int)\n",
    "data[zero_vars] = data[zero_vars].clip(lower=0)\n",
    "\n",
    "# Variables that can be negative but should mostly be between -1 and 1\n",
    "any_vars = [\"extra_profit_loss_pl\", \"inc_bef_tax_pl\", \"profit_loss_year_pl\", \"share_eq_bs\"]\n",
    "data[[f\"{col}_flag_low\" for col in any_vars]] = (data[any_vars] < -1).astype(int)\n",
    "data[any_vars] = data[any_vars].clip(lower=-1)\n",
    "data[[f\"{col}_flag_high\" for col in any_vars]] = (data[any_vars] > 1).astype(int)\n",
    "data[any_vars] = data[any_vars].clip(upper=1)\n",
    "data[[f\"{col}_flag_zero\" for col in any_vars]] = (data[any_vars] == 0).astype(int)\n",
    "data[[f\"{col}_quad\" for col in any_vars]] = data[any_vars] ** 2\n",
    "\n",
    "# Dropping flags with no variation\n",
    "flag_cols = [col for col in data.columns if \"flag\" in col]\n",
    "data = data.drop(columns=[col for col in flag_cols if data[col].var() == 0])\n",
    "\n",
    "# CEO Age Imputation\n",
    "data['ceo_age'] = data['year'] - data['birth_year']\n",
    "data['flag_low_ceo_age'] = ((data['ceo_age'] < 25) & data['ceo_age'].notna()).astype(int)\n",
    "data['flag_high_ceo_age'] = ((data['ceo_age'] > 75) & data['ceo_age'].notna()).astype(int)\n",
    "data['flag_miss_ceo_age'] = data['ceo_age'].isna().astype(int)\n",
    "\n",
    "ceo_age_mean = data['ceo_age'].mean(skipna=True)\n",
    "data['ceo_age'] = data['ceo_age'].clip(lower=25, upper=75).fillna(ceo_age_mean)\n",
    "data['ceo_young'] = (data['ceo_age'] < 40).astype(int)\n",
    "\n",
    "# Handling missing values in labor_avg\n",
    "data['labor_avg_mod'] = data['labor_avg'].fillna(data['labor_avg'].mean())\n",
    "data['flag_miss_labor_avg'] = data['labor_avg'].isna().astype(int)\n",
    "data = data.drop(columns=['labor_avg'])\n",
    "\n",
    "# Creating categorical variables\n",
    "data['urban_m'] = pd.Categorical(data['urban_m'], categories=[1, 2, 3], ordered=False)\n",
    "data['ind2_cat'] = pd.Categorical(data['ind2_cat'], categories=sorted(data['ind2_cat'].unique()), ordered=False)\n",
    "data['fast_growth_f'] = data['fast_growth'].replace({0: 'no_fast_growth', 1: 'fast_growth'}).astype('category')\n",
    "\n",
    "# Dropping missing values in key variables\n",
    "data = data.dropna(subset=['liq_assets_bs', 'foreign', 'ind', 'age', 'material_exp_pl', 'm_region_loc'])\n",
    "\n",
    "# Dropping unused factor levels\n",
    "for col in data.select_dtypes(['category']).columns:\n",
    "    data[col] = data[col].cat.remove_unused_categories()"
   ]
  },
  {
   "cell_type": "markdown",
   "id": "Fk0UGB-6quQz",
   "metadata": {
    "id": "Fk0UGB-6quQz"
   },
   "source": [
    "### Visualizations ###"
   ]
  },
  {
   "cell_type": "code",
   "execution_count": 555,
   "id": "4267795d-188c-4443-81e3-49177a19094f",
   "metadata": {},
   "outputs": [
    {
     "data": {
      "image/png": "[encoded data removed]"
     },
     "metadata": {
      "image/png": {
       "height": 480,
       "width": 640
      }
     },
     "output_type": "display_data"
    }
   ],
   "source": [
    "(\n",
    "    ggplot(data, aes(x=\"sales_mil_log\", y=\"fast_growth\"))\n",
    "    + geom_point(color=color[0])\n",
    "    + geom_smooth(method=\"lm\", formula=\"y ~ x + I(x**2)\", color=color[1], se=False)\n",
    "    + geom_smooth(method=\"loess\", color=color[2], se=False, size=1.5, span=0.9)\n",
    "    + labs(x=\"sales_mil_log\", y=\"fast growth\")\n",
    "    + theme_bw()\n",
    ")"
   ]
  },
  {
   "cell_type": "code",
   "execution_count": 557,
   "id": "96800310-edec-4a0e-9a7b-d0ba7478303d",
   "metadata": {
    "id": "96800310-edec-4a0e-9a7b-d0ba7478303d",
    "outputId": "bb496321-28da-4f57-eaec-8b94714ce4a2",
    "scrolled": true
   },
   "outputs": [
    {
     "data": {
      "image/png": "[encoded data removed]"
     },
     "metadata": {
      "image/png": {
       "height": 480,
       "width": 640
      }
     },
     "output_type": "display_data"
    }
   ],
   "source": [
    "(\n",
    "    ggplot(data, aes(x=\"d1_sales_mil_log\", y=\"fast_growth\"))\n",
    "    + geom_point(size=0.1, color=color[1])\n",
    "    + geom_smooth(method=\"loess\", color=color[0], se=False, size=1.5, span=0.9)\n",
    "    + labs(x=\"Growth rate (Diff of ln sales)\", y=\"fast growth\")\n",
    "    + scale_x_continuous(limits=(-1.5, 1.5), breaks=seq(-1.5, 1.5, by=0.5))\n",
    "    + theme_bw()\n",
    ")"
   ]
  },
  {
   "cell_type": "code",
   "execution_count": 563,
   "id": "95443ce3-08ab-44e4-b7e3-2567b1f8e2e8",
   "metadata": {
    "id": "95443ce3-08ab-44e4-b7e3-2567b1f8e2e8",
    "outputId": "ce1f8b69-402b-48db-beac-726a9ba04463"
   },
   "outputs": [
    {
     "name": "stdout",
     "output_type": "stream",
     "text": [
      "Cleaned data saved to: C:\\Users\\T490\\Downloads\\bisnode_cleaned.csv\n"
     ]
    }
   ],
   "source": [
    "# Get the current directory\n",
    "current_directory = os.getcwd()\n",
    "\n",
    "# Define the output file path directly in the current directory\n",
    "output_file_path = os.path.join(current_directory, \"bisnode_cleaned.csv\")\n",
    "\n",
    "# Save the DataFrame to CSV\n",
    "data.to_csv(output_file_path, index=False)\n",
    "\n",
    "print(f\"Cleaned data saved to: {output_file_path}\")\n"
   ]
  },
  {
   "cell_type": "code",
   "execution_count": 565,
   "id": "7e0c65d2-c0e6-4bcf-8204-eec7f6c68950",
   "metadata": {
    "id": "7e0c65d2-c0e6-4bcf-8204-eec7f6c68950",
    "outputId": "df42f156-32df-492d-ee48-9f0ce393d810"
   },
   "outputs": [
    {
     "data": {
      "text/html": [
       "<div>\n",
       "<style scoped>\n",
       "    .dataframe tbody tr th:only-of-type {\n",
       "        vertical-align: middle;\n",
       "    }\n",
       "\n",
       "    .dataframe tbody tr th {\n",
       "        vertical-align: top;\n",
       "    }\n",
       "\n",
       "    .dataframe thead th {\n",
       "        text-align: right;\n",
       "    }\n",
       "</style>\n",
       "<table border=\"1\" class=\"dataframe\">\n",
       "  <thead>\n",
       "    <tr style=\"text-align: right;\">\n",
       "      <th></th>\n",
       "      <th>comp_id</th>\n",
       "      <th>amort</th>\n",
       "      <th>curr_assets</th>\n",
       "      <th>curr_liab</th>\n",
       "      <th>extra_exp</th>\n",
       "      <th>extra_inc</th>\n",
       "      <th>extra_profit_loss</th>\n",
       "      <th>fixed_assets</th>\n",
       "      <th>inc_bef_tax</th>\n",
       "      <th>intang_assets</th>\n",
       "      <th>...</th>\n",
       "      <th>inc_bef_tax_pl_quad</th>\n",
       "      <th>profit_loss_year_pl_quad</th>\n",
       "      <th>share_eq_bs_quad</th>\n",
       "      <th>ceo_age</th>\n",
       "      <th>flag_low_ceo_age</th>\n",
       "      <th>flag_high_ceo_age</th>\n",
       "      <th>flag_miss_ceo_age</th>\n",
       "      <th>ceo_young</th>\n",
       "      <th>labor_avg_mod</th>\n",
       "      <th>flag_miss_labor_avg</th>\n",
       "    </tr>\n",
       "  </thead>\n",
       "  <tbody>\n",
       "    <tr>\n",
       "      <th>count</th>\n",
       "      <td>1.049300e+04</td>\n",
       "      <td>1.049300e+04</td>\n",
       "      <td>1.049300e+04</td>\n",
       "      <td>1.049300e+04</td>\n",
       "      <td>10493.000000</td>\n",
       "      <td>1.049300e+04</td>\n",
       "      <td>1.049300e+04</td>\n",
       "      <td>1.049300e+04</td>\n",
       "      <td>1.049300e+04</td>\n",
       "      <td>1.049300e+04</td>\n",
       "      <td>...</td>\n",
       "      <td>10493.000000</td>\n",
       "      <td>10493.000000</td>\n",
       "      <td>10493.000000</td>\n",
       "      <td>10493.000000</td>\n",
       "      <td>10493.000000</td>\n",
       "      <td>10493.000000</td>\n",
       "      <td>10493.000000</td>\n",
       "      <td>10493.000000</td>\n",
       "      <td>10493.000000</td>\n",
       "      <td>10493.000000</td>\n",
       "    </tr>\n",
       "    <tr>\n",
       "      <th>mean</th>\n",
       "      <td>1.543570e+11</td>\n",
       "      <td>1.266824e+04</td>\n",
       "      <td>1.238455e+05</td>\n",
       "      <td>9.784211e+04</td>\n",
       "      <td>532.052708</td>\n",
       "      <td>2.112701e+03</td>\n",
       "      <td>1.574308e+03</td>\n",
       "      <td>1.969964e+05</td>\n",
       "      <td>1.439663e+04</td>\n",
       "      <td>3.870547e+03</td>\n",
       "      <td>...</td>\n",
       "      <td>0.085232</td>\n",
       "      <td>0.072230</td>\n",
       "      <td>0.444740</td>\n",
       "      <td>48.612207</td>\n",
       "      <td>0.004193</td>\n",
       "      <td>0.004098</td>\n",
       "      <td>0.122463</td>\n",
       "      <td>0.206614</td>\n",
       "      <td>0.747525</td>\n",
       "      <td>0.089298</td>\n",
       "    </tr>\n",
       "    <tr>\n",
       "      <th>std</th>\n",
       "      <td>1.380363e+11</td>\n",
       "      <td>5.779753e+04</td>\n",
       "      <td>4.082155e+05</td>\n",
       "      <td>3.277468e+05</td>\n",
       "      <td>8379.673407</td>\n",
       "      <td>4.161441e+04</td>\n",
       "      <td>4.054152e+04</td>\n",
       "      <td>1.314237e+06</td>\n",
       "      <td>1.094239e+05</td>\n",
       "      <td>5.191233e+04</td>\n",
       "      <td>...</td>\n",
       "      <td>0.209365</td>\n",
       "      <td>0.194049</td>\n",
       "      <td>0.366559</td>\n",
       "      <td>10.075832</td>\n",
       "      <td>0.064623</td>\n",
       "      <td>0.063887</td>\n",
       "      <td>0.327835</td>\n",
       "      <td>0.404895</td>\n",
       "      <td>1.595828</td>\n",
       "      <td>0.285186</td>\n",
       "    </tr>\n",
       "    <tr>\n",
       "      <th>min</th>\n",
       "      <td>1.002029e+06</td>\n",
       "      <td>-1.489630e+04</td>\n",
       "      <td>0.000000e+00</td>\n",
       "      <td>-8.759259e+03</td>\n",
       "      <td>-1418.518555</td>\n",
       "      <td>-1.740741e+02</td>\n",
       "      <td>-1.702444e+05</td>\n",
       "      <td>0.000000e+00</td>\n",
       "      <td>-1.984182e+06</td>\n",
       "      <td>0.000000e+00</td>\n",
       "      <td>...</td>\n",
       "      <td>0.000000</td>\n",
       "      <td>0.000000</td>\n",
       "      <td>0.000000</td>\n",
       "      <td>25.000000</td>\n",
       "      <td>0.000000</td>\n",
       "      <td>0.000000</td>\n",
       "      <td>0.000000</td>\n",
       "      <td>0.000000</td>\n",
       "      <td>0.083333</td>\n",
       "      <td>0.000000</td>\n",
       "    </tr>\n",
       "    <tr>\n",
       "      <th>25%</th>\n",
       "      <td>2.941912e+10</td>\n",
       "      <td>3.851852e+02</td>\n",
       "      <td>6.192593e+03</td>\n",
       "      <td>4.959259e+03</td>\n",
       "      <td>0.000000</td>\n",
       "      <td>0.000000e+00</td>\n",
       "      <td>0.000000e+00</td>\n",
       "      <td>1.392593e+03</td>\n",
       "      <td>-3.470370e+03</td>\n",
       "      <td>0.000000e+00</td>\n",
       "      <td>...</td>\n",
       "      <td>0.000496</td>\n",
       "      <td>0.000229</td>\n",
       "      <td>0.091102</td>\n",
       "      <td>41.000000</td>\n",
       "      <td>0.000000</td>\n",
       "      <td>0.000000</td>\n",
       "      <td>0.000000</td>\n",
       "      <td>0.000000</td>\n",
       "      <td>0.152778</td>\n",
       "      <td>0.000000</td>\n",
       "    </tr>\n",
       "    <tr>\n",
       "      <th>50%</th>\n",
       "      <td>1.167555e+11</td>\n",
       "      <td>1.892593e+03</td>\n",
       "      <td>1.954445e+04</td>\n",
       "      <td>1.890370e+04</td>\n",
       "      <td>0.000000</td>\n",
       "      <td>0.000000e+00</td>\n",
       "      <td>0.000000e+00</td>\n",
       "      <td>1.381111e+04</td>\n",
       "      <td>1.000000e+03</td>\n",
       "      <td>0.000000e+00</td>\n",
       "      <td>...</td>\n",
       "      <td>0.005477</td>\n",
       "      <td>0.003073</td>\n",
       "      <td>0.370600</td>\n",
       "      <td>48.651276</td>\n",
       "      <td>0.000000</td>\n",
       "      <td>0.000000</td>\n",
       "      <td>0.000000</td>\n",
       "      <td>0.000000</td>\n",
       "      <td>0.333333</td>\n",
       "      <td>0.000000</td>\n",
       "    </tr>\n",
       "    <tr>\n",
       "      <th>75%</th>\n",
       "      <td>2.574332e+11</td>\n",
       "      <td>7.277778e+03</td>\n",
       "      <td>6.711111e+04</td>\n",
       "      <td>6.431111e+04</td>\n",
       "      <td>0.000000</td>\n",
       "      <td>0.000000e+00</td>\n",
       "      <td>0.000000e+00</td>\n",
       "      <td>8.321111e+04</td>\n",
       "      <td>8.177778e+03</td>\n",
       "      <td>0.000000e+00</td>\n",
       "      <td>...</td>\n",
       "      <td>0.048334</td>\n",
       "      <td>0.034604</td>\n",
       "      <td>0.798868</td>\n",
       "      <td>56.000000</td>\n",
       "      <td>0.000000</td>\n",
       "      <td>0.000000</td>\n",
       "      <td>0.000000</td>\n",
       "      <td>0.000000</td>\n",
       "      <td>0.741729</td>\n",
       "      <td>0.000000</td>\n",
       "    </tr>\n",
       "    <tr>\n",
       "      <th>max</th>\n",
       "      <td>4.641050e+11</td>\n",
       "      <td>3.570863e+06</td>\n",
       "      <td>9.055026e+06</td>\n",
       "      <td>1.297067e+07</td>\n",
       "      <td>666300.000000</td>\n",
       "      <td>3.266667e+06</td>\n",
       "      <td>3.253704e+06</td>\n",
       "      <td>1.036673e+08</td>\n",
       "      <td>4.378226e+06</td>\n",
       "      <td>3.154444e+06</td>\n",
       "      <td>...</td>\n",
       "      <td>1.000000</td>\n",
       "      <td>1.000000</td>\n",
       "      <td>1.000000</td>\n",
       "      <td>75.000000</td>\n",
       "      <td>1.000000</td>\n",
       "      <td>1.000000</td>\n",
       "      <td>1.000000</td>\n",
       "      <td>1.000000</td>\n",
       "      <td>37.500000</td>\n",
       "      <td>1.000000</td>\n",
       "    </tr>\n",
       "  </tbody>\n",
       "</table>\n",
       "<p>8 rows × 106 columns</p>\n",
       "</div>"
      ],
      "text/plain": [
       "            comp_id         amort   curr_assets     curr_liab      extra_exp  \\\n",
       "count  1.049300e+04  1.049300e+04  1.049300e+04  1.049300e+04   10493.000000   \n",
       "mean   1.543570e+11  1.266824e+04  1.238455e+05  9.784211e+04     532.052708   \n",
       "std    1.380363e+11  5.779753e+04  4.082155e+05  3.277468e+05    8379.673407   \n",
       "min    1.002029e+06 -1.489630e+04  0.000000e+00 -8.759259e+03   -1418.518555   \n",
       "25%    2.941912e+10  3.851852e+02  6.192593e+03  4.959259e+03       0.000000   \n",
       "50%    1.167555e+11  1.892593e+03  1.954445e+04  1.890370e+04       0.000000   \n",
       "75%    2.574332e+11  7.277778e+03  6.711111e+04  6.431111e+04       0.000000   \n",
       "max    4.641050e+11  3.570863e+06  9.055026e+06  1.297067e+07  666300.000000   \n",
       "\n",
       "          extra_inc  extra_profit_loss  fixed_assets   inc_bef_tax  \\\n",
       "count  1.049300e+04       1.049300e+04  1.049300e+04  1.049300e+04   \n",
       "mean   2.112701e+03       1.574308e+03  1.969964e+05  1.439663e+04   \n",
       "std    4.161441e+04       4.054152e+04  1.314237e+06  1.094239e+05   \n",
       "min   -1.740741e+02      -1.702444e+05  0.000000e+00 -1.984182e+06   \n",
       "25%    0.000000e+00       0.000000e+00  1.392593e+03 -3.470370e+03   \n",
       "50%    0.000000e+00       0.000000e+00  1.381111e+04  1.000000e+03   \n",
       "75%    0.000000e+00       0.000000e+00  8.321111e+04  8.177778e+03   \n",
       "max    3.266667e+06       3.253704e+06  1.036673e+08  4.378226e+06   \n",
       "\n",
       "       intang_assets  ...  inc_bef_tax_pl_quad  profit_loss_year_pl_quad  \\\n",
       "count   1.049300e+04  ...         10493.000000              10493.000000   \n",
       "mean    3.870547e+03  ...             0.085232                  0.072230   \n",
       "std     5.191233e+04  ...             0.209365                  0.194049   \n",
       "min     0.000000e+00  ...             0.000000                  0.000000   \n",
       "25%     0.000000e+00  ...             0.000496                  0.000229   \n",
       "50%     0.000000e+00  ...             0.005477                  0.003073   \n",
       "75%     0.000000e+00  ...             0.048334                  0.034604   \n",
       "max     3.154444e+06  ...             1.000000                  1.000000   \n",
       "\n",
       "       share_eq_bs_quad       ceo_age  flag_low_ceo_age  flag_high_ceo_age  \\\n",
       "count      10493.000000  10493.000000      10493.000000       10493.000000   \n",
       "mean           0.444740     48.612207          0.004193           0.004098   \n",
       "std            0.366559     10.075832          0.064623           0.063887   \n",
       "min            0.000000     25.000000          0.000000           0.000000   \n",
       "25%            0.091102     41.000000          0.000000           0.000000   \n",
       "50%            0.370600     48.651276          0.000000           0.000000   \n",
       "75%            0.798868     56.000000          0.000000           0.000000   \n",
       "max            1.000000     75.000000          1.000000           1.000000   \n",
       "\n",
       "       flag_miss_ceo_age     ceo_young  labor_avg_mod  flag_miss_labor_avg  \n",
       "count       10493.000000  10493.000000   10493.000000         10493.000000  \n",
       "mean            0.122463      0.206614       0.747525             0.089298  \n",
       "std             0.327835      0.404895       1.595828             0.285186  \n",
       "min             0.000000      0.000000       0.083333             0.000000  \n",
       "25%             0.000000      0.000000       0.152778             0.000000  \n",
       "50%             0.000000      0.000000       0.333333             0.000000  \n",
       "75%             0.000000      0.000000       0.741729             0.000000  \n",
       "max             1.000000      1.000000      37.500000             1.000000  \n",
       "\n",
       "[8 rows x 106 columns]"
      ]
     },
     "execution_count": 565,
     "metadata": {},
     "output_type": "execute_result"
    }
   ],
   "source": [
    "data.describe()\n"
   ]
  },
  {
   "cell_type": "markdown",
   "id": "a075313c-e1f4-4ca1-89dc-b92085eb418d",
   "metadata": {},
   "source": [
    "# Task 1"
   ]
  },
  {
   "cell_type": "markdown",
   "id": "pBF-XXGnqfvU",
   "metadata": {
    "id": "pBF-XXGnqfvU"
   },
   "source": [
    "## Part 1: Probability Prediction"
   ]
  },
  {
   "cell_type": "markdown",
   "id": "1c885eff-103d-450a-afbc-46f7d327c928",
   "metadata": {},
   "source": [
    "#### Define Helper Functions"
   ]
  },
  {
   "cell_type": "code",
   "execution_count": 218,
   "id": "171ae7c1-cf2b-42ee-85e8-c4008dea9499",
   "metadata": {},
   "outputs": [],
   "source": [
    "def regression_results(y_true, y_pred):\n",
    "\n",
    "    # Regression metrics\n",
    "    explained_variance = metrics.explained_variance_score(y_true, y_pred)\n",
    "    mean_absolute_error = metrics.mean_absolute_error(y_true, y_pred)\n",
    "    mse = metrics.mean_squared_error(y_true, y_pred)\n",
    "    median_absolute_error = metrics.median_absolute_error(y_true, y_pred)\n",
    "    r2 = metrics.r2_score(y_true, y_pred)\n",
    "\n",
    "    print(\"explained_variance: \", round(explained_variance, 4))\n",
    "    print(\"r2: \", round(r2, 4))\n",
    "    print(\"MAE: \", round(mean_absolute_error, 4))\n",
    "    print(\"MSE: \", round(mse, 4))\n",
    "    print(\"RMSE: \", round(np.sqrt(mse), 4))\n",
    "\n",
    "\n",
    "def coef_matrix(X, model):\n",
    "\n",
    "    coef_matrix = pd.concat(\n",
    "        [pd.DataFrame(X.columns), pd.DataFrame(np.transpose(model.coef_))], axis=1\n",
    "    )\n",
    "    coef_matrix.columns = [\"variable\", \"coefficient\"]\n",
    "    coef_matrix = coef_matrix.append(\n",
    "        {\"variable\": \"Intercept\", \"coefficient\": model.intercept_},\n",
    "        ignore_index=True,\n",
    "    )\n",
    "    return coef_matrix\n",
    "\n",
    "\n",
    "def cv_summary(lambdas, C_values, model):\n",
    "    d = {\n",
    "        \"lambdas\": lambdas,\n",
    "        \"C_values\": C_values,\n",
    "        \"mean_cv_score\": model.scores_[1].mean(axis=0),\n",
    "    }\n",
    "    return pd.DataFrame(data=d)\n",
    "\n",
    "\n",
    "def create_roc_plot(y_true, y_pred):\n",
    "    fpr, tpr, thresholds = roc_curve(y_true, y_pred)\n",
    "    all_coords = pd.DataFrame({\"fpr\": fpr, \"tpr\": tpr, \"thresholds\": thresholds})\n",
    "\n",
    "    plot = (\n",
    "        ggplot(all_coords, aes(x=\"fpr\", y=\"tpr\"))\n",
    "        + geom_line(color=color[0], size=0.7)\n",
    "        + geom_area(position=\"identity\", fill=\"mediumaquamarine\", alpha=0.3)\n",
    "        + xlab(\"False Positive Rate (1-Specifity)\")\n",
    "        + ylab(\"True Positive Rate (Sensitivity)\")\n",
    "        + geom_abline(intercept=0, slope=1, linetype=\"dotted\", color=\"black\")\n",
    "        + scale_y_continuous(limits=(0, 1), breaks=seq(0, 1, 0.1), expand=(0, 0.01))\n",
    "        + scale_x_continuous(limits=(0, 1), breaks=seq(0, 1, 0.1), expand=(0.01, 0))\n",
    "        + theme_bw()\n",
    "    )\n",
    "    return plot\n",
    "\n",
    "\n",
    "def sigmoid_array(x):\n",
    "    return 1 / (1 + np.exp(-x))\n",
    "\n",
    "\n",
    "def generate_fold_prediction(model, X, fold, param_index):\n",
    "    fold_coef = model.coefs_paths_[1][fold, param_index, :]\n",
    "    return sigmoid_array(\n",
    "        np.dot(X, np.transpose(fold_coef)[:-1]) + np.transpose(fold_coef)[-1]\n",
    "    )\n",
    "\n",
    "\n",
    "def create_loss_plot(all_coords, optimal_threshold, curr_exp_loss):\n",
    "    all_coords_copy = all_coords.copy()\n",
    "    all_coords_copy[\"loss\"] = (\n",
    "        all_coords_copy.false_pos * FP + all_coords_copy.false_neg * FN\n",
    "    ) / all_coords_copy.n\n",
    "\n",
    "    t = optimal_threshold\n",
    "    l = curr_exp_loss\n",
    "\n",
    "    plot = (\n",
    "        ggplot(all_coords_copy, aes(x=\"thresholds\", y=\"loss\"))\n",
    "        + geom_line(color=color[0], size=0.7)\n",
    "        + scale_x_continuous(breaks=seq(0, 1.1, by=0.1))\n",
    "        + coord_cartesian(xlim=(0, 1))\n",
    "        + geom_vline(xintercept=t, color=color[0])\n",
    "        + annotate(\n",
    "            geom=\"text\",\n",
    "            x=t - 0.01,\n",
    "            y=max(all_coords_copy.loss) - 0.4,\n",
    "            label=\"best threshold: \" + str(round(t, 2)),\n",
    "            colour=color[1],\n",
    "            angle=90,\n",
    "            size=7,\n",
    "        )\n",
    "        + annotate(geom=\"text\", x=t + 0.06, y=l, label=str(round(l, 2)), size=7)\n",
    "        + theme_bw()\n",
    "    )\n",
    "    return plot\n",
    "\n",
    "\n",
    "def create_roc_plot_with_optimal(all_coords, optimal_threshold):\n",
    "    all_coords_copy = all_coords.copy()\n",
    "    all_coords_copy[\"sp\"] = 1 - all_coords_copy.true_neg / all_coords_copy.neg\n",
    "    all_coords_copy[\"se\"] = all_coords_copy.true_pos / all_coords_copy.pos\n",
    "\n",
    "    best_coords = all_coords_copy[all_coords_copy.thresholds == optimal_threshold]\n",
    "    sp = best_coords.sp.values[0]\n",
    "    se = best_coords.se.values[0]\n",
    "\n",
    "    plot = (\n",
    "        ggplot(all_coords_copy, aes(x=\"sp\", y=\"se\"))\n",
    "        + geom_line(color=color[0], size=0.7)\n",
    "        + scale_y_continuous(breaks=seq(0, 1.1, by=0.1))\n",
    "        + scale_x_continuous(breaks=seq(0, 1.1, by=0.1))\n",
    "        + geom_point(data=pd.DataFrame({\"sp\": [sp], \"se\": [se]}))\n",
    "        + annotate(\n",
    "            geom=\"text\",\n",
    "            x=sp,\n",
    "            y=se + 0.03,\n",
    "            label=str(round(sp, 2)) + \", \" + str(round(se, 2)),\n",
    "            size=7,\n",
    "        )\n",
    "        + geom_area(position=\"identity\", fill=\"mediumaquamarine\", alpha=0.3)\n",
    "        + xlab(\"False Positive Rate (1-Specifity)\")\n",
    "        + ylab(\"True Positive Rate (Sensitivity)\")\n",
    "        + geom_abline(intercept=0, slope=1, linetype=\"dotted\", color=\"black\")\n",
    "        + theme_bw()\n",
    "    )\n",
    "    return plot"
   ]
  },
  {
   "cell_type": "code",
   "execution_count": 193,
   "id": "045d25cd-576f-4bfb-ba60-509f9f276ee9",
   "metadata": {
    "id": "045d25cd-576f-4bfb-ba60-509f9f276ee9"
   },
   "outputs": [],
   "source": [
    "# Define variable sets\n",
    "rawvars = [\n",
    "    \"curr_assets\", \"curr_liab\", \"extra_exp\", \"extra_inc\", \"extra_profit_loss\", \"fixed_assets\",\n",
    "    \"inc_bef_tax\", \"intang_assets\", \"inventories\", \"liq_assets\", \"material_exp\", \"personnel_exp\",\n",
    "    \"profit_loss_year\", \"sales\", \"share_eq\", \"subscribed_cap\"\n",
    "]\n",
    "\n",
    "qualityvars = [\n",
    "    \"balsheet_flag\", \"balsheet_length\", \"balsheet_notfullyear\"\n",
    "]\n",
    "\n",
    "engvar = [\n",
    "    \"total_assets_bs\", \"fixed_assets_bs\", \"liq_assets_bs\", \"curr_assets_bs\",\n",
    "    \"share_eq_bs\", \"subscribed_cap_bs\", \"intang_assets_bs\", \"extra_exp_pl\",\n",
    "    \"extra_inc_pl\", \"extra_profit_loss_pl\", \"inc_bef_tax_pl\", \"inventories_pl\",\n",
    "    \"material_exp_pl\", \"profit_loss_year_pl\", \"personnel_exp_pl\"\n",
    "]\n",
    "\n",
    "engvar2 = [\n",
    "    \"extra_profit_loss_pl_quad\", \"inc_bef_tax_pl_quad\",\n",
    "    \"profit_loss_year_pl_quad\", \"share_eq_bs_quad\"\n",
    "]\n",
    "\n",
    "engvar3 = (\n",
    "    [col for col in data.columns if col.endswith(\"flag_low\")] +\n",
    "    [col for col in data.columns if col.endswith(\"flag_high\")] +\n",
    "    [col for col in data.columns if col.endswith(\"flag_error\")] +\n",
    "    [col for col in data.columns if col.endswith(\"flag_zero\")]\n",
    ")\n",
    "\n",
    "d1 = [\n",
    "    \"d1_sales_mil_log_mod\", \"d1_sales_mil_log_mod_sq\",\n",
    "    \"flag_low_d1_sales_mil_log\", \"flag_high_d1_sales_mil_log\"\n",
    "]\n",
    "\n",
    "hr = [\n",
    "    \"female\", \"ceo_age\", \"flag_high_ceo_age\", \"flag_low_ceo_age\",\n",
    "    \"flag_miss_ceo_age\", \"ceo_count\", \"labor_avg_mod\",\n",
    "    \"flag_miss_labor_avg\", \"foreign_management\"\n",
    "]\n",
    "\n",
    "firm = [\n",
    "    \"age\", \"age2\", \"new\", \"ind2_cat\", \"m_region_loc\", \"urban_m\"\n",
    "]\n",
    "\n",
    "# Interactions for logit, LASSO\n",
    "interactions1 = [\n",
    "    \"ind2_cat*age\", \"ind2_cat*age2\",\n",
    "    \"ind2_cat*d1_sales_mil_log_mod\", \"ind2_cat*sales_mil_log\",\n",
    "    \"ind2_cat*ceo_age\", \"ind2_cat*foreign_management\",\n",
    "    \"ind2_cat*female\", \"ind2_cat*urban_m\", \"ind2_cat*labor_avg_mod\"\n",
    "]\n",
    "\n",
    "interactions2 = [\n",
    "    \"sales_mil_log*age\", \"sales_mil_log*female\",\n",
    "    \"sales_mil_log*profit_loss_year_pl\", \"sales_mil_log*foreign_management\"\n",
    "]\n",
    "\n",
    "# Define variable sets for models\n",
    "M1 = [\n",
    "    \"sales_mil_log\", \"sales_mil_log_sq\", \"d1_sales_mil_log_mod\", \"profit_loss_year_pl\", \"ind2_cat\"\n",
    "]\n",
    "\n",
    "M2 = [\n",
    "    \"sales_mil_log\", \"sales_mil_log_sq\", \"d1_sales_mil_log_mod\", \"profit_loss_year_pl\",\n",
    "    \"fixed_assets_bs\", \"share_eq_bs\", \"curr_liab_bs\", \"curr_liab_bs_flag_high\",\n",
    "    \"curr_liab_bs_flag_error\", \"age\", \"foreign_management\", \"ind2_cat\"\n",
    "]\n",
    "\n",
    "M3 = [\n",
    "    \"sales_mil_log\", \"sales_mil_log_sq\", *firm, *engvar, *d1\n",
    "]\n",
    "\n",
    "M4 = [\n",
    "    \"sales_mil_log\", \"sales_mil_log_sq\", *firm, *engvar, *engvar2, *engvar3, *d1, *hr, *qualityvars\n",
    "]\n",
    "\n",
    "M5 = [\n",
    "    \"sales_mil_log\", \"sales_mil_log_sq\", *firm, *engvar, *engvar2, *engvar3, *d1, *hr, *qualityvars,\n",
    "    *interactions1, *interactions2\n",
    "]\n",
    "\n",
    "# For LASSO\n",
    "logit_lasso_vars = [\n",
    "    \"sales_mil_log\", \"sales_mil_log_sq\", *engvar, *engvar2, *engvar3, *d1, *hr, *firm, *qualityvars,\n",
    "    *interactions1, *interactions2\n",
    "]\n",
    "\n",
    "# For Random Forest\n",
    "rfvars = [\n",
    "    \"sales_mil\", \"d1_sales_mil_log\", *rawvars, *hr, *firm, *qualityvars\n",
    "]"
   ]
  },
  {
   "cell_type": "markdown",
   "id": "ee29a6c3-e4a3-4f96-bbc4-f9376913209c",
   "metadata": {},
   "source": [
    "### Probability models quick test:"
   ]
  },
  {
   "cell_type": "markdown",
   "id": "0e4af518-7ddd-44fc-b5e8-656291ef3654",
   "metadata": {},
   "source": [
    "Linear Probability model"
   ]
  },
  {
   "cell_type": "code",
   "execution_count": 137,
   "id": "0983f5fc-6e3c-4413-a6a3-ca5e64cf21c7",
   "metadata": {},
   "outputs": [
    {
     "data": {
      "text/html": [
       "<table class=\"simpletable\">\n",
       "<caption>OLS Regression Results</caption>\n",
       "<tr>\n",
       "  <th>Dep. Variable:</th>       <td>fast_growth</td>   <th>  R-squared:         </th> <td>   0.043</td> \n",
       "</tr>\n",
       "<tr>\n",
       "  <th>Model:</th>                   <td>OLS</td>       <th>  Adj. R-squared:    </th> <td>   0.041</td> \n",
       "</tr>\n",
       "<tr>\n",
       "  <th>Method:</th>             <td>Least Squares</td>  <th>  F-statistic:       </th> <td>   25.59</td> \n",
       "</tr>\n",
       "<tr>\n",
       "  <th>Date:</th>             <td>Fri, 07 Mar 2025</td> <th>  Prob (F-statistic):</th> <td>1.93e-84</td> \n",
       "</tr>\n",
       "<tr>\n",
       "  <th>Time:</th>                 <td>17:35:26</td>     <th>  Log-Likelihood:    </th> <td> -5700.0</td> \n",
       "</tr>\n",
       "<tr>\n",
       "  <th>No. Observations:</th>      <td> 10493</td>      <th>  AIC:               </th> <td>1.144e+04</td>\n",
       "</tr>\n",
       "<tr>\n",
       "  <th>Df Residuals:</th>          <td> 10474</td>      <th>  BIC:               </th> <td>1.158e+04</td>\n",
       "</tr>\n",
       "<tr>\n",
       "  <th>Df Model:</th>              <td>    18</td>      <th>                     </th>     <td> </td>    \n",
       "</tr>\n",
       "<tr>\n",
       "  <th>Covariance Type:</th>         <td>HC1</td>       <th>                     </th>     <td> </td>    \n",
       "</tr>\n",
       "</table>\n",
       "<table class=\"simpletable\">\n",
       "<tr>\n",
       "             <td></td>                <th>coef</th>     <th>std err</th>      <th>z</th>      <th>P>|z|</th>  <th>[0.025</th>    <th>0.975]</th>  \n",
       "</tr>\n",
       "<tr>\n",
       "  <th>Intercept</th>               <td>    0.2776</td> <td>    0.023</td> <td>   11.849</td> <td> 0.000</td> <td>    0.232</td> <td>    0.324</td>\n",
       "</tr>\n",
       "<tr>\n",
       "  <th>ind2_cat[T.27.0]</th>        <td>    0.0286</td> <td>    0.027</td> <td>    1.070</td> <td> 0.284</td> <td>   -0.024</td> <td>    0.081</td>\n",
       "</tr>\n",
       "<tr>\n",
       "  <th>ind2_cat[T.28.0]</th>        <td>    0.0022</td> <td>    0.020</td> <td>    0.111</td> <td> 0.912</td> <td>   -0.037</td> <td>    0.041</td>\n",
       "</tr>\n",
       "<tr>\n",
       "  <th>ind2_cat[T.29.0]</th>        <td>    0.0483</td> <td>    0.038</td> <td>    1.287</td> <td> 0.198</td> <td>   -0.025</td> <td>    0.122</td>\n",
       "</tr>\n",
       "<tr>\n",
       "  <th>ind2_cat[T.30.0]</th>        <td>    0.0539</td> <td>    0.049</td> <td>    1.102</td> <td> 0.271</td> <td>   -0.042</td> <td>    0.150</td>\n",
       "</tr>\n",
       "<tr>\n",
       "  <th>ind2_cat[T.33.0]</th>        <td>    0.0041</td> <td>    0.021</td> <td>    0.193</td> <td> 0.847</td> <td>   -0.037</td> <td>    0.045</td>\n",
       "</tr>\n",
       "<tr>\n",
       "  <th>ind2_cat[T.55.0]</th>        <td>   -0.0744</td> <td>    0.021</td> <td>   -3.609</td> <td> 0.000</td> <td>   -0.115</td> <td>   -0.034</td>\n",
       "</tr>\n",
       "<tr>\n",
       "  <th>ind2_cat[T.56.0]</th>        <td>   -0.0814</td> <td>    0.018</td> <td>   -4.588</td> <td> 0.000</td> <td>   -0.116</td> <td>   -0.047</td>\n",
       "</tr>\n",
       "<tr>\n",
       "  <th>sales_mil_log</th>           <td>   -0.0088</td> <td>    0.006</td> <td>   -1.520</td> <td> 0.128</td> <td>   -0.020</td> <td>    0.003</td>\n",
       "</tr>\n",
       "<tr>\n",
       "  <th>sales_mil_log_sq</th>        <td>    0.0043</td> <td>    0.001</td> <td>    3.562</td> <td> 0.000</td> <td>    0.002</td> <td>    0.007</td>\n",
       "</tr>\n",
       "<tr>\n",
       "  <th>d1_sales_mil_log_mod</th>    <td>   -0.0324</td> <td>    0.011</td> <td>   -2.950</td> <td> 0.003</td> <td>   -0.054</td> <td>   -0.011</td>\n",
       "</tr>\n",
       "<tr>\n",
       "  <th>profit_loss_year_pl</th>     <td>   -0.1378</td> <td>    0.019</td> <td>   -7.269</td> <td> 0.000</td> <td>   -0.175</td> <td>   -0.101</td>\n",
       "</tr>\n",
       "<tr>\n",
       "  <th>fixed_assets_bs</th>         <td>    0.0098</td> <td>    0.014</td> <td>    0.717</td> <td> 0.473</td> <td>   -0.017</td> <td>    0.037</td>\n",
       "</tr>\n",
       "<tr>\n",
       "  <th>share_eq_bs</th>             <td>    0.0125</td> <td>    0.011</td> <td>    1.155</td> <td> 0.248</td> <td>   -0.009</td> <td>    0.034</td>\n",
       "</tr>\n",
       "<tr>\n",
       "  <th>curr_liab_bs</th>            <td>    0.0454</td> <td>    0.019</td> <td>    2.405</td> <td> 0.016</td> <td>    0.008</td> <td>    0.082</td>\n",
       "</tr>\n",
       "<tr>\n",
       "  <th>curr_liab_bs_flag_high</th>  <td>   -0.0039</td> <td>    0.018</td> <td>   -0.222</td> <td> 0.824</td> <td>   -0.039</td> <td>    0.031</td>\n",
       "</tr>\n",
       "<tr>\n",
       "  <th>curr_liab_bs_flag_error</th> <td>    0.1254</td> <td>    0.171</td> <td>    0.734</td> <td> 0.463</td> <td>   -0.210</td> <td>    0.460</td>\n",
       "</tr>\n",
       "<tr>\n",
       "  <th>age</th>                     <td>   -0.0076</td> <td>    0.001</td> <td>  -11.005</td> <td> 0.000</td> <td>   -0.009</td> <td>   -0.006</td>\n",
       "</tr>\n",
       "<tr>\n",
       "  <th>foreign_management</th>      <td>    0.0064</td> <td>    0.014</td> <td>    0.457</td> <td> 0.648</td> <td>   -0.021</td> <td>    0.034</td>\n",
       "</tr>\n",
       "</table>\n",
       "<table class=\"simpletable\">\n",
       "<tr>\n",
       "  <th>Omnibus:</th>       <td>1670.914</td> <th>  Durbin-Watson:     </th> <td>   1.977</td>\n",
       "</tr>\n",
       "<tr>\n",
       "  <th>Prob(Omnibus):</th>  <td> 0.000</td>  <th>  Jarque-Bera (JB):  </th> <td>2445.851</td>\n",
       "</tr>\n",
       "<tr>\n",
       "  <th>Skew:</th>           <td> 1.165</td>  <th>  Prob(JB):          </th> <td>    0.00</td>\n",
       "</tr>\n",
       "<tr>\n",
       "  <th>Kurtosis:</th>       <td> 2.592</td>  <th>  Cond. No.          </th> <td>    747.</td>\n",
       "</tr>\n",
       "</table><br/><br/>Notes:<br/>[1] Standard Errors are heteroscedasticity robust (HC1)"
      ],
      "text/latex": [
       "\\begin{center}\n",
       "\\begin{tabular}{lclc}\n",
       "\\toprule\n",
       "\\textbf{Dep. Variable:}              &   fast\\_growth   & \\textbf{  R-squared:         } &     0.043   \\\\\n",
       "\\textbf{Model:}                      &       OLS        & \\textbf{  Adj. R-squared:    } &     0.041   \\\\\n",
       "\\textbf{Method:}                     &  Least Squares   & \\textbf{  F-statistic:       } &     25.59   \\\\\n",
       "\\textbf{Date:}                       & Fri, 07 Mar 2025 & \\textbf{  Prob (F-statistic):} &  1.93e-84   \\\\\n",
       "\\textbf{Time:}                       &     17:35:26     & \\textbf{  Log-Likelihood:    } &   -5700.0   \\\\\n",
       "\\textbf{No. Observations:}           &       10493      & \\textbf{  AIC:               } & 1.144e+04   \\\\\n",
       "\\textbf{Df Residuals:}               &       10474      & \\textbf{  BIC:               } & 1.158e+04   \\\\\n",
       "\\textbf{Df Model:}                   &          18      & \\textbf{                     } &             \\\\\n",
       "\\textbf{Covariance Type:}            &       HC1        & \\textbf{                     } &             \\\\\n",
       "\\bottomrule\n",
       "\\end{tabular}\n",
       "\\begin{tabular}{lcccccc}\n",
       "                                     & \\textbf{coef} & \\textbf{std err} & \\textbf{z} & \\textbf{P$> |$z$|$} & \\textbf{[0.025} & \\textbf{0.975]}  \\\\\n",
       "\\midrule\n",
       "\\textbf{Intercept}                   &       0.2776  &        0.023     &    11.849  &         0.000        &        0.232    &        0.324     \\\\\n",
       "\\textbf{ind2\\_cat[T.27.0]}           &       0.0286  &        0.027     &     1.070  &         0.284        &       -0.024    &        0.081     \\\\\n",
       "\\textbf{ind2\\_cat[T.28.0]}           &       0.0022  &        0.020     &     0.111  &         0.912        &       -0.037    &        0.041     \\\\\n",
       "\\textbf{ind2\\_cat[T.29.0]}           &       0.0483  &        0.038     &     1.287  &         0.198        &       -0.025    &        0.122     \\\\\n",
       "\\textbf{ind2\\_cat[T.30.0]}           &       0.0539  &        0.049     &     1.102  &         0.271        &       -0.042    &        0.150     \\\\\n",
       "\\textbf{ind2\\_cat[T.33.0]}           &       0.0041  &        0.021     &     0.193  &         0.847        &       -0.037    &        0.045     \\\\\n",
       "\\textbf{ind2\\_cat[T.55.0]}           &      -0.0744  &        0.021     &    -3.609  &         0.000        &       -0.115    &       -0.034     \\\\\n",
       "\\textbf{ind2\\_cat[T.56.0]}           &      -0.0814  &        0.018     &    -4.588  &         0.000        &       -0.116    &       -0.047     \\\\\n",
       "\\textbf{sales\\_mil\\_log}             &      -0.0088  &        0.006     &    -1.520  &         0.128        &       -0.020    &        0.003     \\\\\n",
       "\\textbf{sales\\_mil\\_log\\_sq}         &       0.0043  &        0.001     &     3.562  &         0.000        &        0.002    &        0.007     \\\\\n",
       "\\textbf{d1\\_sales\\_mil\\_log\\_mod}    &      -0.0324  &        0.011     &    -2.950  &         0.003        &       -0.054    &       -0.011     \\\\\n",
       "\\textbf{profit\\_loss\\_year\\_pl}      &      -0.1378  &        0.019     &    -7.269  &         0.000        &       -0.175    &       -0.101     \\\\\n",
       "\\textbf{fixed\\_assets\\_bs}           &       0.0098  &        0.014     &     0.717  &         0.473        &       -0.017    &        0.037     \\\\\n",
       "\\textbf{share\\_eq\\_bs}               &       0.0125  &        0.011     &     1.155  &         0.248        &       -0.009    &        0.034     \\\\\n",
       "\\textbf{curr\\_liab\\_bs}              &       0.0454  &        0.019     &     2.405  &         0.016        &        0.008    &        0.082     \\\\\n",
       "\\textbf{curr\\_liab\\_bs\\_flag\\_high}  &      -0.0039  &        0.018     &    -0.222  &         0.824        &       -0.039    &        0.031     \\\\\n",
       "\\textbf{curr\\_liab\\_bs\\_flag\\_error} &       0.1254  &        0.171     &     0.734  &         0.463        &       -0.210    &        0.460     \\\\\n",
       "\\textbf{age}                         &      -0.0076  &        0.001     &   -11.005  &         0.000        &       -0.009    &       -0.006     \\\\\n",
       "\\textbf{foreign\\_management}         &       0.0064  &        0.014     &     0.457  &         0.648        &       -0.021    &        0.034     \\\\\n",
       "\\bottomrule\n",
       "\\end{tabular}\n",
       "\\begin{tabular}{lclc}\n",
       "\\textbf{Omnibus:}       & 1670.914 & \\textbf{  Durbin-Watson:     } &    1.977  \\\\\n",
       "\\textbf{Prob(Omnibus):} &   0.000  & \\textbf{  Jarque-Bera (JB):  } & 2445.851  \\\\\n",
       "\\textbf{Skew:}          &   1.165  & \\textbf{  Prob(JB):          } &     0.00  \\\\\n",
       "\\textbf{Kurtosis:}      &   2.592  & \\textbf{  Cond. No.          } &     747.  \\\\\n",
       "\\bottomrule\n",
       "\\end{tabular}\n",
       "%\\caption{OLS Regression Results}\n",
       "\\end{center}\n",
       "\n",
       "Notes: \\newline\n",
       " [1] Standard Errors are heteroscedasticity robust (HC1)"
      ],
      "text/plain": [
       "<class 'statsmodels.iolib.summary.Summary'>\n",
       "\"\"\"\n",
       "                            OLS Regression Results                            \n",
       "==============================================================================\n",
       "Dep. Variable:            fast_growth   R-squared:                       0.043\n",
       "Model:                            OLS   Adj. R-squared:                  0.041\n",
       "Method:                 Least Squares   F-statistic:                     25.59\n",
       "Date:                Fri, 07 Mar 2025   Prob (F-statistic):           1.93e-84\n",
       "Time:                        17:35:26   Log-Likelihood:                -5700.0\n",
       "No. Observations:               10493   AIC:                         1.144e+04\n",
       "Df Residuals:                   10474   BIC:                         1.158e+04\n",
       "Df Model:                          18                                         \n",
       "Covariance Type:                  HC1                                         \n",
       "===========================================================================================\n",
       "                              coef    std err          z      P>|z|      [0.025      0.975]\n",
       "-------------------------------------------------------------------------------------------\n",
       "Intercept                   0.2776      0.023     11.849      0.000       0.232       0.324\n",
       "ind2_cat[T.27.0]            0.0286      0.027      1.070      0.284      -0.024       0.081\n",
       "ind2_cat[T.28.0]            0.0022      0.020      0.111      0.912      -0.037       0.041\n",
       "ind2_cat[T.29.0]            0.0483      0.038      1.287      0.198      -0.025       0.122\n",
       "ind2_cat[T.30.0]            0.0539      0.049      1.102      0.271      -0.042       0.150\n",
       "ind2_cat[T.33.0]            0.0041      0.021      0.193      0.847      -0.037       0.045\n",
       "ind2_cat[T.55.0]           -0.0744      0.021     -3.609      0.000      -0.115      -0.034\n",
       "ind2_cat[T.56.0]           -0.0814      0.018     -4.588      0.000      -0.116      -0.047\n",
       "sales_mil_log              -0.0088      0.006     -1.520      0.128      -0.020       0.003\n",
       "sales_mil_log_sq            0.0043      0.001      3.562      0.000       0.002       0.007\n",
       "d1_sales_mil_log_mod       -0.0324      0.011     -2.950      0.003      -0.054      -0.011\n",
       "profit_loss_year_pl        -0.1378      0.019     -7.269      0.000      -0.175      -0.101\n",
       "fixed_assets_bs             0.0098      0.014      0.717      0.473      -0.017       0.037\n",
       "share_eq_bs                 0.0125      0.011      1.155      0.248      -0.009       0.034\n",
       "curr_liab_bs                0.0454      0.019      2.405      0.016       0.008       0.082\n",
       "curr_liab_bs_flag_high     -0.0039      0.018     -0.222      0.824      -0.039       0.031\n",
       "curr_liab_bs_flag_error     0.1254      0.171      0.734      0.463      -0.210       0.460\n",
       "age                        -0.0076      0.001    -11.005      0.000      -0.009      -0.006\n",
       "foreign_management          0.0064      0.014      0.457      0.648      -0.021       0.034\n",
       "==============================================================================\n",
       "Omnibus:                     1670.914   Durbin-Watson:                   1.977\n",
       "Prob(Omnibus):                  0.000   Jarque-Bera (JB):             2445.851\n",
       "Skew:                           1.165   Prob(JB):                         0.00\n",
       "Kurtosis:                       2.592   Cond. No.                         747.\n",
       "==============================================================================\n",
       "\n",
       "Notes:\n",
       "[1] Standard Errors are heteroscedasticity robust (HC1)\n",
       "\"\"\""
      ]
     },
     "execution_count": 137,
     "metadata": {},
     "output_type": "execute_result"
    }
   ],
   "source": [
    "ols_modelx2 = smf.ols(\"fast_growth~\" + \"+\".join(M2), data).fit(cov_type=\"HC1\")\n",
    "ols_modelx2.summary()"
   ]
  },
  {
   "cell_type": "code",
   "execution_count": 139,
   "id": "e895f6eb-4809-4217-96ac-7a5e40b75bb6",
   "metadata": {},
   "outputs": [
    {
     "name": "stdout",
     "output_type": "stream",
     "text": [
      "Optimization terminated successfully.\n",
      "         Current function value: 0.527528\n",
      "         Iterations 6\n"
     ]
    }
   ],
   "source": [
    "logit_modelx2 = smf.logit(\"fast_growth~\" + \"+\".join(M2), data).fit()"
   ]
  },
  {
   "cell_type": "code",
   "execution_count": 141,
   "id": "24cc94fa-643c-4e8f-ab8d-581d03adc9f4",
   "metadata": {},
   "outputs": [
    {
     "data": {
      "text/html": [
       "<table class=\"simpletable\">\n",
       "<caption>Logit Regression Results</caption>\n",
       "<tr>\n",
       "  <th>Dep. Variable:</th>      <td>fast_growth</td>   <th>  No. Observations:  </th>  <td> 10493</td>  \n",
       "</tr>\n",
       "<tr>\n",
       "  <th>Model:</th>                 <td>Logit</td>      <th>  Df Residuals:      </th>  <td> 10474</td>  \n",
       "</tr>\n",
       "<tr>\n",
       "  <th>Method:</th>                 <td>MLE</td>       <th>  Df Model:          </th>  <td>    18</td>  \n",
       "</tr>\n",
       "<tr>\n",
       "  <th>Date:</th>            <td>Fri, 07 Mar 2025</td> <th>  Pseudo R-squ.:     </th>  <td>0.03863</td> \n",
       "</tr>\n",
       "<tr>\n",
       "  <th>Time:</th>                <td>17:35:27</td>     <th>  Log-Likelihood:    </th> <td> -5535.4</td> \n",
       "</tr>\n",
       "<tr>\n",
       "  <th>converged:</th>             <td>True</td>       <th>  LL-Null:           </th> <td> -5757.8</td> \n",
       "</tr>\n",
       "<tr>\n",
       "  <th>Covariance Type:</th>     <td>nonrobust</td>    <th>  LLR p-value:       </th> <td>3.859e-83</td>\n",
       "</tr>\n",
       "</table>\n",
       "<table class=\"simpletable\">\n",
       "<tr>\n",
       "             <td></td>                <th>coef</th>     <th>std err</th>      <th>z</th>      <th>P>|z|</th>  <th>[0.025</th>    <th>0.975]</th>  \n",
       "</tr>\n",
       "<tr>\n",
       "  <th>Intercept</th>               <td>   -0.9878</td> <td>    0.133</td> <td>   -7.444</td> <td> 0.000</td> <td>   -1.248</td> <td>   -0.728</td>\n",
       "</tr>\n",
       "<tr>\n",
       "  <th>ind2_cat[T.27.0]</th>        <td>    0.1584</td> <td>    0.141</td> <td>    1.119</td> <td> 0.263</td> <td>   -0.119</td> <td>    0.436</td>\n",
       "</tr>\n",
       "<tr>\n",
       "  <th>ind2_cat[T.28.0]</th>        <td>    0.0165</td> <td>    0.109</td> <td>    0.151</td> <td> 0.880</td> <td>   -0.197</td> <td>    0.230</td>\n",
       "</tr>\n",
       "<tr>\n",
       "  <th>ind2_cat[T.29.0]</th>        <td>    0.2663</td> <td>    0.195</td> <td>    1.366</td> <td> 0.172</td> <td>   -0.116</td> <td>    0.648</td>\n",
       "</tr>\n",
       "<tr>\n",
       "  <th>ind2_cat[T.30.0]</th>        <td>    0.2623</td> <td>    0.234</td> <td>    1.120</td> <td> 0.263</td> <td>   -0.197</td> <td>    0.722</td>\n",
       "</tr>\n",
       "<tr>\n",
       "  <th>ind2_cat[T.33.0]</th>        <td>    0.0080</td> <td>    0.111</td> <td>    0.072</td> <td> 0.943</td> <td>   -0.209</td> <td>    0.225</td>\n",
       "</tr>\n",
       "<tr>\n",
       "  <th>ind2_cat[T.55.0]</th>        <td>   -0.4372</td> <td>    0.118</td> <td>   -3.709</td> <td> 0.000</td> <td>   -0.668</td> <td>   -0.206</td>\n",
       "</tr>\n",
       "<tr>\n",
       "  <th>ind2_cat[T.56.0]</th>        <td>   -0.4694</td> <td>    0.098</td> <td>   -4.796</td> <td> 0.000</td> <td>   -0.661</td> <td>   -0.278</td>\n",
       "</tr>\n",
       "<tr>\n",
       "  <th>sales_mil_log</th>           <td>   -0.0795</td> <td>    0.039</td> <td>   -2.028</td> <td> 0.043</td> <td>   -0.156</td> <td>   -0.003</td>\n",
       "</tr>\n",
       "<tr>\n",
       "  <th>sales_mil_log_sq</th>        <td>    0.0174</td> <td>    0.007</td> <td>    2.456</td> <td> 0.014</td> <td>    0.004</td> <td>    0.031</td>\n",
       "</tr>\n",
       "<tr>\n",
       "  <th>d1_sales_mil_log_mod</th>    <td>   -0.1678</td> <td>    0.054</td> <td>   -3.081</td> <td> 0.002</td> <td>   -0.275</td> <td>   -0.061</td>\n",
       "</tr>\n",
       "<tr>\n",
       "  <th>profit_loss_year_pl</th>     <td>   -0.6968</td> <td>    0.095</td> <td>   -7.314</td> <td> 0.000</td> <td>   -0.884</td> <td>   -0.510</td>\n",
       "</tr>\n",
       "<tr>\n",
       "  <th>fixed_assets_bs</th>         <td>    0.0417</td> <td>    0.079</td> <td>    0.530</td> <td> 0.596</td> <td>   -0.112</td> <td>    0.196</td>\n",
       "</tr>\n",
       "<tr>\n",
       "  <th>share_eq_bs</th>             <td>    0.0646</td> <td>    0.062</td> <td>    1.041</td> <td> 0.298</td> <td>   -0.057</td> <td>    0.186</td>\n",
       "</tr>\n",
       "<tr>\n",
       "  <th>curr_liab_bs</th>            <td>    0.2649</td> <td>    0.107</td> <td>    2.484</td> <td> 0.013</td> <td>    0.056</td> <td>    0.474</td>\n",
       "</tr>\n",
       "<tr>\n",
       "  <th>curr_liab_bs_flag_high</th>  <td>   -0.0261</td> <td>    0.097</td> <td>   -0.268</td> <td> 0.789</td> <td>   -0.217</td> <td>    0.165</td>\n",
       "</tr>\n",
       "<tr>\n",
       "  <th>curr_liab_bs_flag_error</th> <td>    0.6098</td> <td>    0.961</td> <td>    0.635</td> <td> 0.526</td> <td>   -1.274</td> <td>    2.493</td>\n",
       "</tr>\n",
       "<tr>\n",
       "  <th>age</th>                     <td>   -0.0439</td> <td>    0.004</td> <td>  -10.931</td> <td> 0.000</td> <td>   -0.052</td> <td>   -0.036</td>\n",
       "</tr>\n",
       "<tr>\n",
       "  <th>foreign_management</th>      <td>    0.0486</td> <td>    0.082</td> <td>    0.589</td> <td> 0.556</td> <td>   -0.113</td> <td>    0.210</td>\n",
       "</tr>\n",
       "</table>"
      ],
      "text/latex": [
       "\\begin{center}\n",
       "\\begin{tabular}{lclc}\n",
       "\\toprule\n",
       "\\textbf{Dep. Variable:}              &   fast\\_growth   & \\textbf{  No. Observations:  } &    10493    \\\\\n",
       "\\textbf{Model:}                      &      Logit       & \\textbf{  Df Residuals:      } &    10474    \\\\\n",
       "\\textbf{Method:}                     &       MLE        & \\textbf{  Df Model:          } &       18    \\\\\n",
       "\\textbf{Date:}                       & Fri, 07 Mar 2025 & \\textbf{  Pseudo R-squ.:     } &  0.03863    \\\\\n",
       "\\textbf{Time:}                       &     17:35:27     & \\textbf{  Log-Likelihood:    } &   -5535.4   \\\\\n",
       "\\textbf{converged:}                  &       True       & \\textbf{  LL-Null:           } &   -5757.8   \\\\\n",
       "\\textbf{Covariance Type:}            &    nonrobust     & \\textbf{  LLR p-value:       } & 3.859e-83   \\\\\n",
       "\\bottomrule\n",
       "\\end{tabular}\n",
       "\\begin{tabular}{lcccccc}\n",
       "                                     & \\textbf{coef} & \\textbf{std err} & \\textbf{z} & \\textbf{P$> |$z$|$} & \\textbf{[0.025} & \\textbf{0.975]}  \\\\\n",
       "\\midrule\n",
       "\\textbf{Intercept}                   &      -0.9878  &        0.133     &    -7.444  &         0.000        &       -1.248    &       -0.728     \\\\\n",
       "\\textbf{ind2\\_cat[T.27.0]}           &       0.1584  &        0.141     &     1.119  &         0.263        &       -0.119    &        0.436     \\\\\n",
       "\\textbf{ind2\\_cat[T.28.0]}           &       0.0165  &        0.109     &     0.151  &         0.880        &       -0.197    &        0.230     \\\\\n",
       "\\textbf{ind2\\_cat[T.29.0]}           &       0.2663  &        0.195     &     1.366  &         0.172        &       -0.116    &        0.648     \\\\\n",
       "\\textbf{ind2\\_cat[T.30.0]}           &       0.2623  &        0.234     &     1.120  &         0.263        &       -0.197    &        0.722     \\\\\n",
       "\\textbf{ind2\\_cat[T.33.0]}           &       0.0080  &        0.111     &     0.072  &         0.943        &       -0.209    &        0.225     \\\\\n",
       "\\textbf{ind2\\_cat[T.55.0]}           &      -0.4372  &        0.118     &    -3.709  &         0.000        &       -0.668    &       -0.206     \\\\\n",
       "\\textbf{ind2\\_cat[T.56.0]}           &      -0.4694  &        0.098     &    -4.796  &         0.000        &       -0.661    &       -0.278     \\\\\n",
       "\\textbf{sales\\_mil\\_log}             &      -0.0795  &        0.039     &    -2.028  &         0.043        &       -0.156    &       -0.003     \\\\\n",
       "\\textbf{sales\\_mil\\_log\\_sq}         &       0.0174  &        0.007     &     2.456  &         0.014        &        0.004    &        0.031     \\\\\n",
       "\\textbf{d1\\_sales\\_mil\\_log\\_mod}    &      -0.1678  &        0.054     &    -3.081  &         0.002        &       -0.275    &       -0.061     \\\\\n",
       "\\textbf{profit\\_loss\\_year\\_pl}      &      -0.6968  &        0.095     &    -7.314  &         0.000        &       -0.884    &       -0.510     \\\\\n",
       "\\textbf{fixed\\_assets\\_bs}           &       0.0417  &        0.079     &     0.530  &         0.596        &       -0.112    &        0.196     \\\\\n",
       "\\textbf{share\\_eq\\_bs}               &       0.0646  &        0.062     &     1.041  &         0.298        &       -0.057    &        0.186     \\\\\n",
       "\\textbf{curr\\_liab\\_bs}              &       0.2649  &        0.107     &     2.484  &         0.013        &        0.056    &        0.474     \\\\\n",
       "\\textbf{curr\\_liab\\_bs\\_flag\\_high}  &      -0.0261  &        0.097     &    -0.268  &         0.789        &       -0.217    &        0.165     \\\\\n",
       "\\textbf{curr\\_liab\\_bs\\_flag\\_error} &       0.6098  &        0.961     &     0.635  &         0.526        &       -1.274    &        2.493     \\\\\n",
       "\\textbf{age}                         &      -0.0439  &        0.004     &   -10.931  &         0.000        &       -0.052    &       -0.036     \\\\\n",
       "\\textbf{foreign\\_management}         &       0.0486  &        0.082     &     0.589  &         0.556        &       -0.113    &        0.210     \\\\\n",
       "\\bottomrule\n",
       "\\end{tabular}\n",
       "%\\caption{Logit Regression Results}\n",
       "\\end{center}"
      ],
      "text/plain": [
       "<class 'statsmodels.iolib.summary.Summary'>\n",
       "\"\"\"\n",
       "                           Logit Regression Results                           \n",
       "==============================================================================\n",
       "Dep. Variable:            fast_growth   No. Observations:                10493\n",
       "Model:                          Logit   Df Residuals:                    10474\n",
       "Method:                           MLE   Df Model:                           18\n",
       "Date:                Fri, 07 Mar 2025   Pseudo R-squ.:                 0.03863\n",
       "Time:                        17:35:27   Log-Likelihood:                -5535.4\n",
       "converged:                       True   LL-Null:                       -5757.8\n",
       "Covariance Type:            nonrobust   LLR p-value:                 3.859e-83\n",
       "===========================================================================================\n",
       "                              coef    std err          z      P>|z|      [0.025      0.975]\n",
       "-------------------------------------------------------------------------------------------\n",
       "Intercept                  -0.9878      0.133     -7.444      0.000      -1.248      -0.728\n",
       "ind2_cat[T.27.0]            0.1584      0.141      1.119      0.263      -0.119       0.436\n",
       "ind2_cat[T.28.0]            0.0165      0.109      0.151      0.880      -0.197       0.230\n",
       "ind2_cat[T.29.0]            0.2663      0.195      1.366      0.172      -0.116       0.648\n",
       "ind2_cat[T.30.0]            0.2623      0.234      1.120      0.263      -0.197       0.722\n",
       "ind2_cat[T.33.0]            0.0080      0.111      0.072      0.943      -0.209       0.225\n",
       "ind2_cat[T.55.0]           -0.4372      0.118     -3.709      0.000      -0.668      -0.206\n",
       "ind2_cat[T.56.0]           -0.4694      0.098     -4.796      0.000      -0.661      -0.278\n",
       "sales_mil_log              -0.0795      0.039     -2.028      0.043      -0.156      -0.003\n",
       "sales_mil_log_sq            0.0174      0.007      2.456      0.014       0.004       0.031\n",
       "d1_sales_mil_log_mod       -0.1678      0.054     -3.081      0.002      -0.275      -0.061\n",
       "profit_loss_year_pl        -0.6968      0.095     -7.314      0.000      -0.884      -0.510\n",
       "fixed_assets_bs             0.0417      0.079      0.530      0.596      -0.112       0.196\n",
       "share_eq_bs                 0.0646      0.062      1.041      0.298      -0.057       0.186\n",
       "curr_liab_bs                0.2649      0.107      2.484      0.013       0.056       0.474\n",
       "curr_liab_bs_flag_high     -0.0261      0.097     -0.268      0.789      -0.217       0.165\n",
       "curr_liab_bs_flag_error     0.6098      0.961      0.635      0.526      -1.274       2.493\n",
       "age                        -0.0439      0.004    -10.931      0.000      -0.052      -0.036\n",
       "foreign_management          0.0486      0.082      0.589      0.556      -0.113       0.210\n",
       "===========================================================================================\n",
       "\"\"\""
      ]
     },
     "execution_count": 141,
     "metadata": {},
     "output_type": "execute_result"
    }
   ],
   "source": [
    "logit_modelx2.summary()"
   ]
  },
  {
   "cell_type": "code",
   "execution_count": 143,
   "id": "5cfcf635-28b2-489e-8981-2209035d5a47",
   "metadata": {},
   "outputs": [
    {
     "data": {
      "text/html": [
       "<table class=\"simpletable\">\n",
       "<caption>Logit Marginal Effects</caption>\n",
       "<tr>\n",
       "  <th>Dep. Variable:</th> <td>fast_growth</td>\n",
       "</tr>\n",
       "<tr>\n",
       "  <th>Method:</th>           <td>dydx</td>    \n",
       "</tr>\n",
       "<tr>\n",
       "  <th>At:</th>              <td>overall</td>  \n",
       "</tr>\n",
       "</table>\n",
       "<table class=\"simpletable\">\n",
       "<tr>\n",
       "             <th></th>                <th>dy/dx</th>    <th>std err</th>      <th>z</th>      <th>P>|z|</th>  <th>[0.025</th>    <th>0.975]</th>  \n",
       "</tr>\n",
       "<tr>\n",
       "  <th>ind2_cat[T.27.0]</th>        <td>    0.0275</td> <td>    0.025</td> <td>    1.120</td> <td> 0.263</td> <td>   -0.021</td> <td>    0.076</td>\n",
       "</tr>\n",
       "<tr>\n",
       "  <th>ind2_cat[T.28.0]</th>        <td>    0.0029</td> <td>    0.019</td> <td>    0.151</td> <td> 0.880</td> <td>   -0.034</td> <td>    0.040</td>\n",
       "</tr>\n",
       "<tr>\n",
       "  <th>ind2_cat[T.29.0]</th>        <td>    0.0462</td> <td>    0.034</td> <td>    1.367</td> <td> 0.172</td> <td>   -0.020</td> <td>    0.112</td>\n",
       "</tr>\n",
       "<tr>\n",
       "  <th>ind2_cat[T.30.0]</th>        <td>    0.0455</td> <td>    0.041</td> <td>    1.120</td> <td> 0.263</td> <td>   -0.034</td> <td>    0.125</td>\n",
       "</tr>\n",
       "<tr>\n",
       "  <th>ind2_cat[T.33.0]</th>        <td>    0.0014</td> <td>    0.019</td> <td>    0.072</td> <td> 0.943</td> <td>   -0.036</td> <td>    0.039</td>\n",
       "</tr>\n",
       "<tr>\n",
       "  <th>ind2_cat[T.55.0]</th>        <td>   -0.0758</td> <td>    0.020</td> <td>   -3.715</td> <td> 0.000</td> <td>   -0.116</td> <td>   -0.036</td>\n",
       "</tr>\n",
       "<tr>\n",
       "  <th>ind2_cat[T.56.0]</th>        <td>   -0.0814</td> <td>    0.017</td> <td>   -4.810</td> <td> 0.000</td> <td>   -0.115</td> <td>   -0.048</td>\n",
       "</tr>\n",
       "<tr>\n",
       "  <th>sales_mil_log</th>           <td>   -0.0138</td> <td>    0.007</td> <td>   -2.028</td> <td> 0.043</td> <td>   -0.027</td> <td>   -0.000</td>\n",
       "</tr>\n",
       "<tr>\n",
       "  <th>sales_mil_log_sq</th>        <td>    0.0030</td> <td>    0.001</td> <td>    2.459</td> <td> 0.014</td> <td>    0.001</td> <td>    0.005</td>\n",
       "</tr>\n",
       "<tr>\n",
       "  <th>d1_sales_mil_log_mod</th>    <td>   -0.0291</td> <td>    0.009</td> <td>   -3.085</td> <td> 0.002</td> <td>   -0.048</td> <td>   -0.011</td>\n",
       "</tr>\n",
       "<tr>\n",
       "  <th>profit_loss_year_pl</th>     <td>   -0.1208</td> <td>    0.016</td> <td>   -7.374</td> <td> 0.000</td> <td>   -0.153</td> <td>   -0.089</td>\n",
       "</tr>\n",
       "<tr>\n",
       "  <th>fixed_assets_bs</th>         <td>    0.0072</td> <td>    0.014</td> <td>    0.530</td> <td> 0.596</td> <td>   -0.019</td> <td>    0.034</td>\n",
       "</tr>\n",
       "<tr>\n",
       "  <th>share_eq_bs</th>             <td>    0.0112</td> <td>    0.011</td> <td>    1.041</td> <td> 0.298</td> <td>   -0.010</td> <td>    0.032</td>\n",
       "</tr>\n",
       "<tr>\n",
       "  <th>curr_liab_bs</th>            <td>    0.0459</td> <td>    0.018</td> <td>    2.486</td> <td> 0.013</td> <td>    0.010</td> <td>    0.082</td>\n",
       "</tr>\n",
       "<tr>\n",
       "  <th>curr_liab_bs_flag_high</th>  <td>   -0.0045</td> <td>    0.017</td> <td>   -0.268</td> <td> 0.789</td> <td>   -0.038</td> <td>    0.029</td>\n",
       "</tr>\n",
       "<tr>\n",
       "  <th>curr_liab_bs_flag_error</th> <td>    0.1057</td> <td>    0.167</td> <td>    0.635</td> <td> 0.526</td> <td>   -0.221</td> <td>    0.432</td>\n",
       "</tr>\n",
       "<tr>\n",
       "  <th>age</th>                     <td>   -0.0076</td> <td>    0.001</td> <td>  -11.098</td> <td> 0.000</td> <td>   -0.009</td> <td>   -0.006</td>\n",
       "</tr>\n",
       "<tr>\n",
       "  <th>foreign_management</th>      <td>    0.0084</td> <td>    0.014</td> <td>    0.589</td> <td> 0.556</td> <td>   -0.020</td> <td>    0.036</td>\n",
       "</tr>\n",
       "</table>"
      ],
      "text/latex": [
       "\\begin{center}\n",
       "\\begin{tabular}{lc}\n",
       "\\toprule\n",
       "\\textbf{Dep. Variable:}              &  fast\\_growth   \\\\\n",
       "\\textbf{Method:}                     &      dydx       \\\\\n",
       "\\textbf{At:}                         &    overall      \\\\\n",
       "\\bottomrule\n",
       "\\end{tabular}\n",
       "\\begin{tabular}{ccccccc}\n",
       "             \\textbf{}               & \\textbf{dy/dx} & \\textbf{std err} & \\textbf{z} & \\textbf{P$> |$z$|$} & \\textbf{[0.025} & \\textbf{0.975]}  \\\\\n",
       "\\midrule\n",
       "\\bottomrule\n",
       "\\end{tabular}\n",
       "\\begin{tabular}{lcccccc}\n",
       "\\textbf{ind2\\_cat[T.27.0]}           &       0.0275   &        0.025     &     1.120  &         0.263        &       -0.021    &        0.076     \\\\\n",
       "\\textbf{ind2\\_cat[T.28.0]}           &       0.0029   &        0.019     &     0.151  &         0.880        &       -0.034    &        0.040     \\\\\n",
       "\\textbf{ind2\\_cat[T.29.0]}           &       0.0462   &        0.034     &     1.367  &         0.172        &       -0.020    &        0.112     \\\\\n",
       "\\textbf{ind2\\_cat[T.30.0]}           &       0.0455   &        0.041     &     1.120  &         0.263        &       -0.034    &        0.125     \\\\\n",
       "\\textbf{ind2\\_cat[T.33.0]}           &       0.0014   &        0.019     &     0.072  &         0.943        &       -0.036    &        0.039     \\\\\n",
       "\\textbf{ind2\\_cat[T.55.0]}           &      -0.0758   &        0.020     &    -3.715  &         0.000        &       -0.116    &       -0.036     \\\\\n",
       "\\textbf{ind2\\_cat[T.56.0]}           &      -0.0814   &        0.017     &    -4.810  &         0.000        &       -0.115    &       -0.048     \\\\\n",
       "\\textbf{sales\\_mil\\_log}             &      -0.0138   &        0.007     &    -2.028  &         0.043        &       -0.027    &       -0.000     \\\\\n",
       "\\textbf{sales\\_mil\\_log\\_sq}         &       0.0030   &        0.001     &     2.459  &         0.014        &        0.001    &        0.005     \\\\\n",
       "\\textbf{d1\\_sales\\_mil\\_log\\_mod}    &      -0.0291   &        0.009     &    -3.085  &         0.002        &       -0.048    &       -0.011     \\\\\n",
       "\\textbf{profit\\_loss\\_year\\_pl}      &      -0.1208   &        0.016     &    -7.374  &         0.000        &       -0.153    &       -0.089     \\\\\n",
       "\\textbf{fixed\\_assets\\_bs}           &       0.0072   &        0.014     &     0.530  &         0.596        &       -0.019    &        0.034     \\\\\n",
       "\\textbf{share\\_eq\\_bs}               &       0.0112   &        0.011     &     1.041  &         0.298        &       -0.010    &        0.032     \\\\\n",
       "\\textbf{curr\\_liab\\_bs}              &       0.0459   &        0.018     &     2.486  &         0.013        &        0.010    &        0.082     \\\\\n",
       "\\textbf{curr\\_liab\\_bs\\_flag\\_high}  &      -0.0045   &        0.017     &    -0.268  &         0.789        &       -0.038    &        0.029     \\\\\n",
       "\\textbf{curr\\_liab\\_bs\\_flag\\_error} &       0.1057   &        0.167     &     0.635  &         0.526        &       -0.221    &        0.432     \\\\\n",
       "\\textbf{age}                         &      -0.0076   &        0.001     &   -11.098  &         0.000        &       -0.009    &       -0.006     \\\\\n",
       "\\textbf{foreign\\_management}         &       0.0084   &        0.014     &     0.589  &         0.556        &       -0.020    &        0.036     \\\\\n",
       "\\bottomrule\n",
       "\\end{tabular}\n",
       "%\\caption{Logit Marginal Effects}\n",
       "\\end{center}"
      ],
      "text/plain": [
       "<class 'statsmodels.iolib.summary.Summary'>\n",
       "\"\"\"\n",
       "        Logit Marginal Effects       \n",
       "=====================================\n",
       "Dep. Variable:            fast_growth\n",
       "Method:                          dydx\n",
       "At:                           overall\n",
       "===========================================================================================\n",
       "                             dy/dx    std err          z      P>|z|      [0.025      0.975]\n",
       "-------------------------------------------------------------------------------------------\n",
       "ind2_cat[T.27.0]            0.0275      0.025      1.120      0.263      -0.021       0.076\n",
       "ind2_cat[T.28.0]            0.0029      0.019      0.151      0.880      -0.034       0.040\n",
       "ind2_cat[T.29.0]            0.0462      0.034      1.367      0.172      -0.020       0.112\n",
       "ind2_cat[T.30.0]            0.0455      0.041      1.120      0.263      -0.034       0.125\n",
       "ind2_cat[T.33.0]            0.0014      0.019      0.072      0.943      -0.036       0.039\n",
       "ind2_cat[T.55.0]           -0.0758      0.020     -3.715      0.000      -0.116      -0.036\n",
       "ind2_cat[T.56.0]           -0.0814      0.017     -4.810      0.000      -0.115      -0.048\n",
       "sales_mil_log              -0.0138      0.007     -2.028      0.043      -0.027      -0.000\n",
       "sales_mil_log_sq            0.0030      0.001      2.459      0.014       0.001       0.005\n",
       "d1_sales_mil_log_mod       -0.0291      0.009     -3.085      0.002      -0.048      -0.011\n",
       "profit_loss_year_pl        -0.1208      0.016     -7.374      0.000      -0.153      -0.089\n",
       "fixed_assets_bs             0.0072      0.014      0.530      0.596      -0.019       0.034\n",
       "share_eq_bs                 0.0112      0.011      1.041      0.298      -0.010       0.032\n",
       "curr_liab_bs                0.0459      0.018      2.486      0.013       0.010       0.082\n",
       "curr_liab_bs_flag_high     -0.0045      0.017     -0.268      0.789      -0.038       0.029\n",
       "curr_liab_bs_flag_error     0.1057      0.167      0.635      0.526      -0.221       0.432\n",
       "age                        -0.0076      0.001    -11.098      0.000      -0.009      -0.006\n",
       "foreign_management          0.0084      0.014      0.589      0.556      -0.020       0.036\n",
       "===========================================================================================\n",
       "\"\"\""
      ]
     },
     "execution_count": 143,
     "metadata": {},
     "output_type": "execute_result"
    }
   ],
   "source": [
    "logit_modelx2.get_margeff().summary()"
   ]
  },
  {
   "cell_type": "markdown",
   "id": "10cf2cec-7661-4789-9902-a7c36587dc9e",
   "metadata": {},
   "source": [
    "#### 0. Separate train and holdout data"
   ]
  },
  {
   "cell_type": "code",
   "execution_count": 146,
   "id": "458a7c78-d1a8-49ee-899e-351fb80ab867",
   "metadata": {},
   "outputs": [],
   "source": [
    "data_train, data_holdout = train_test_split(data, train_size=0.8, random_state=42)"
   ]
  },
  {
   "cell_type": "code",
   "execution_count": 148,
   "id": "0c5924b0-ec4c-46a7-8417-774be658a18f",
   "metadata": {},
   "outputs": [
    {
     "name": "stdout",
     "output_type": "stream",
     "text": [
      "Total\n",
      "fast_growth\n",
      "0    0.762032\n",
      "1    0.237968\n",
      "Name: proportion, dtype: float64\n",
      "Train\n",
      "fast_growth\n",
      "0    0.764236\n",
      "1    0.235764\n",
      "Name: proportion, dtype: float64\n",
      "Holdout\n",
      "fast_growth\n",
      "0    0.753216\n",
      "1    0.246784\n",
      "Name: proportion, dtype: float64\n"
     ]
    }
   ],
   "source": [
    "print(\"Total\")\n",
    "print(data[\"fast_growth\"].value_counts(normalize=True))\n",
    "print(\"Train\")\n",
    "print(data_train[\"fast_growth\"].value_counts(normalize=True))\n",
    "print(\"Holdout\")\n",
    "print(data_holdout[\"fast_growth\"].value_counts(normalize=True))"
   ]
  },
  {
   "cell_type": "markdown",
   "id": "9f04b383-32ba-446e-b29f-f55d9998619b",
   "metadata": {},
   "source": [
    "### 1) Logit Model with CV"
   ]
  },
  {
   "cell_type": "code",
   "execution_count": 174,
   "id": "192fd0c8-68b3-4a45-b3cb-15c8faf04cf3",
   "metadata": {},
   "outputs": [],
   "source": [
    "# Specify 5 fold cross-validation method\n",
    "k = KFold(n_splits=5, shuffle=True, random_state=42)"
   ]
  },
  {
   "cell_type": "code",
   "execution_count": 176,
   "id": "d7da90f6-ecd0-45db-ab08-4096ae39d610",
   "metadata": {},
   "outputs": [],
   "source": [
    "#Set up X-vars\n",
    "\n",
    "logit_model_vars = [M1, M2, M3, M4, M5]"
   ]
  },
  {
   "cell_type": "markdown",
   "id": "2b884122-f489-41e0-a040-ecb5a12c617a",
   "metadata": {},
   "source": [
    "Set up Logit model object\n",
    "\n",
    "No regularisation needed so setting the paremeter to very high value"
   ]
  },
  {
   "cell_type": "code",
   "execution_count": 179,
   "id": "009047cb-2653-435c-9d45-2bbbfdb75bcf",
   "metadata": {},
   "outputs": [],
   "source": [
    "C_value_logit = [1e20]"
   ]
  },
  {
   "cell_type": "code",
   "execution_count": 181,
   "id": "603da8e2-2df0-4dff-809d-e77368819016",
   "metadata": {},
   "outputs": [],
   "source": [
    "logit_models = dict()\n",
    "CV_RMSE_folds = dict()\n",
    "\n",
    "for i, model_vars in enumerate(logit_model_vars):\n",
    "\n",
    "    model_equation = \"fast_growth~\" + \"+\".join(model_vars)\n",
    "    y_train, X_train = patsy.dmatrices(model_equation, data_train)\n",
    "\n",
    "    LRCV_brier = LogisticRegressionCV(\n",
    "        Cs=C_value_logit,\n",
    "        cv=k,\n",
    "        refit=True,\n",
    "        scoring=\"neg_brier_score\",\n",
    "        solver=\"newton-cg\",\n",
    "        tol=1e-7,\n",
    "        random_state=42,\n",
    "    )\n",
    "\n",
    "    logit_models[\"M\" + str(i + 1)] = LRCV_brier.fit(X_train, y_train)\n",
    "\n",
    "    # Calculate RMSE on test for each fold\n",
    "    CV_RMSE_folds[\"M\" + str(i + 1)] = np.sqrt(\n",
    "        -1 * logit_models[\"M\" + str(i + 1)].scores_[1].ravel()\n",
    "    )"
   ]
  },
  {
   "cell_type": "code",
   "execution_count": 183,
   "id": "19c4bf92-fc02-4870-8f0d-288054ad6193",
   "metadata": {},
   "outputs": [
    {
     "data": {
      "text/html": [
       "<div>\n",
       "<style scoped>\n",
       "    .dataframe tbody tr th:only-of-type {\n",
       "        vertical-align: middle;\n",
       "    }\n",
       "\n",
       "    .dataframe tbody tr th {\n",
       "        vertical-align: top;\n",
       "    }\n",
       "\n",
       "    .dataframe thead th {\n",
       "        text-align: right;\n",
       "    }\n",
       "</style>\n",
       "<table border=\"1\" class=\"dataframe\">\n",
       "  <thead>\n",
       "    <tr style=\"text-align: right;\">\n",
       "      <th></th>\n",
       "      <th>M1</th>\n",
       "      <th>M2</th>\n",
       "      <th>M3</th>\n",
       "      <th>M4</th>\n",
       "      <th>M5</th>\n",
       "    </tr>\n",
       "  </thead>\n",
       "  <tbody>\n",
       "    <tr>\n",
       "      <th>0</th>\n",
       "      <td>0.420748</td>\n",
       "      <td>0.418996</td>\n",
       "      <td>0.417536</td>\n",
       "      <td>0.416264</td>\n",
       "      <td>0.418222</td>\n",
       "    </tr>\n",
       "    <tr>\n",
       "      <th>1</th>\n",
       "      <td>0.415982</td>\n",
       "      <td>0.413959</td>\n",
       "      <td>0.411548</td>\n",
       "      <td>0.411949</td>\n",
       "      <td>0.414574</td>\n",
       "    </tr>\n",
       "    <tr>\n",
       "      <th>2</th>\n",
       "      <td>0.415077</td>\n",
       "      <td>0.411688</td>\n",
       "      <td>0.409785</td>\n",
       "      <td>0.408819</td>\n",
       "      <td>0.408957</td>\n",
       "    </tr>\n",
       "    <tr>\n",
       "      <th>3</th>\n",
       "      <td>0.419987</td>\n",
       "      <td>0.418569</td>\n",
       "      <td>0.415383</td>\n",
       "      <td>0.415146</td>\n",
       "      <td>0.418261</td>\n",
       "    </tr>\n",
       "    <tr>\n",
       "      <th>4</th>\n",
       "      <td>0.420404</td>\n",
       "      <td>0.418054</td>\n",
       "      <td>0.413167</td>\n",
       "      <td>0.411109</td>\n",
       "      <td>0.410574</td>\n",
       "    </tr>\n",
       "  </tbody>\n",
       "</table>\n",
       "</div>"
      ],
      "text/plain": [
       "         M1        M2        M3        M4        M5\n",
       "0  0.420748  0.418996  0.417536  0.416264  0.418222\n",
       "1  0.415982  0.413959  0.411548  0.411949  0.414574\n",
       "2  0.415077  0.411688  0.409785  0.408819  0.408957\n",
       "3  0.419987  0.418569  0.415383  0.415146  0.418261\n",
       "4  0.420404  0.418054  0.413167  0.411109  0.410574"
      ]
     },
     "execution_count": 183,
     "metadata": {},
     "output_type": "execute_result"
    }
   ],
   "source": [
    "pd.DataFrame(CV_RMSE_folds)"
   ]
  },
  {
   "cell_type": "markdown",
   "id": "e8d7869f-3665-419f-a301-05bcc0e62519",
   "metadata": {},
   "source": [
    "Choose **M4** for its superior performance, as it consistently achieves the lowest RMSE across folds, offering the best predictive accuracy. While slightly more complex than **M3**, its performance gains justify the added complexity, making it a more reliable choice than **M5**."
   ]
  },
  {
   "cell_type": "markdown",
   "id": "9455f8d6-3f56-462d-a3fb-e041d7203e8c",
   "metadata": {},
   "source": [
    "### 2. Logit LASSO Model"
   ]
  },
  {
   "cell_type": "code",
   "execution_count": 195,
   "id": "e260ca38-411a-46b1-8469-c2c819770992",
   "metadata": {},
   "outputs": [],
   "source": [
    "model_equation = \"fast_growth~\" + \"+\".join(logit_lasso_vars)\n",
    "y_train, X_train = patsy.dmatrices(model_equation, data_train)"
   ]
  },
  {
   "cell_type": "code",
   "execution_count": 197,
   "id": "9619727b-4cef-4742-8064-49597bbf8748",
   "metadata": {},
   "outputs": [],
   "source": [
    "#Normalise X vars for Lasso\n",
    "\n",
    "normalized_logitvars = pd.DataFrame(\n",
    "    StandardScaler().fit_transform(X_train),\n",
    "    columns=X_train.design_info.column_names,\n",
    ")"
   ]
  },
  {
   "cell_type": "code",
   "execution_count": 199,
   "id": "4147207f-b4b7-4be4-8a1b-3788e571b3ac",
   "metadata": {},
   "outputs": [],
   "source": [
    "#Set regularization parameters\n",
    "\n",
    "lambdas = list(10 ** np.arange(-1, -4.01, -1 / 3))\n",
    "n_obs = normalized_logitvars.shape[0] * 4 / 5\n",
    "C_values = [\n",
    "    1 / (l * n_obs) for l in lambdas\n",
    "]  # Cs are the inverse of regularization strength"
   ]
  },
  {
   "cell_type": "markdown",
   "id": "57498cca-0ce0-41a0-95ab-c396eddb526d",
   "metadata": {},
   "source": [
    "Initialize and fit Logit Lasso"
   ]
  },
  {
   "cell_type": "code",
   "execution_count": 204,
   "id": "ab7b71ab-db39-41d4-a809-17024b51612c",
   "metadata": {},
   "outputs": [],
   "source": [
    "logLasso_brier = LogisticRegressionCV(\n",
    "    Cs=C_values,\n",
    "    penalty=\"l1\",\n",
    "    cv=k,\n",
    "    refit=True,\n",
    "    scoring=\"neg_brier_score\",\n",
    "    solver=\"liblinear\",\n",
    "    random_state=42,\n",
    ")\n",
    "\n",
    "logit_models[\"LASSO\"] = logLasso_brier.fit(normalized_logitvars, y_train)"
   ]
  },
  {
   "cell_type": "markdown",
   "id": "53f8c6bb-3637-4bc8-91b7-9bbc9d5627f7",
   "metadata": {},
   "source": [
    "See CV-fold RMSE-s (negative brier score)"
   ]
  },
  {
   "cell_type": "code",
   "execution_count": 221,
   "id": "f01c697a-9023-40e4-bbb4-a877c0f206b7",
   "metadata": {},
   "outputs": [
    {
     "data": {
      "text/html": [
       "<div>\n",
       "<style scoped>\n",
       "    .dataframe tbody tr th:only-of-type {\n",
       "        vertical-align: middle;\n",
       "    }\n",
       "\n",
       "    .dataframe tbody tr th {\n",
       "        vertical-align: top;\n",
       "    }\n",
       "\n",
       "    .dataframe thead th {\n",
       "        text-align: right;\n",
       "    }\n",
       "</style>\n",
       "<table border=\"1\" class=\"dataframe\">\n",
       "  <thead>\n",
       "    <tr style=\"text-align: right;\">\n",
       "      <th></th>\n",
       "      <th>lambdas</th>\n",
       "      <th>C_values</th>\n",
       "      <th>mean_cv_score</th>\n",
       "    </tr>\n",
       "  </thead>\n",
       "  <tbody>\n",
       "    <tr>\n",
       "      <th>0</th>\n",
       "      <td>0.100000</td>\n",
       "      <td>0.001489</td>\n",
       "      <td>0.436097</td>\n",
       "    </tr>\n",
       "    <tr>\n",
       "      <th>1</th>\n",
       "      <td>0.046416</td>\n",
       "      <td>0.003208</td>\n",
       "      <td>0.425331</td>\n",
       "    </tr>\n",
       "    <tr>\n",
       "      <th>2</th>\n",
       "      <td>0.021544</td>\n",
       "      <td>0.006912</td>\n",
       "      <td>0.417370</td>\n",
       "    </tr>\n",
       "    <tr>\n",
       "      <th>3</th>\n",
       "      <td>0.010000</td>\n",
       "      <td>0.014892</td>\n",
       "      <td>0.413869</td>\n",
       "    </tr>\n",
       "    <tr>\n",
       "      <th>4</th>\n",
       "      <td>0.004642</td>\n",
       "      <td>0.032083</td>\n",
       "      <td>0.412313</td>\n",
       "    </tr>\n",
       "    <tr>\n",
       "      <th>5</th>\n",
       "      <td>0.002154</td>\n",
       "      <td>0.069121</td>\n",
       "      <td>0.412531</td>\n",
       "    </tr>\n",
       "    <tr>\n",
       "      <th>6</th>\n",
       "      <td>0.001000</td>\n",
       "      <td>0.148916</td>\n",
       "      <td>0.412910</td>\n",
       "    </tr>\n",
       "    <tr>\n",
       "      <th>7</th>\n",
       "      <td>0.000464</td>\n",
       "      <td>0.320830</td>\n",
       "      <td>0.413630</td>\n",
       "    </tr>\n",
       "    <tr>\n",
       "      <th>8</th>\n",
       "      <td>0.000215</td>\n",
       "      <td>0.691206</td>\n",
       "      <td>0.414223</td>\n",
       "    </tr>\n",
       "    <tr>\n",
       "      <th>9</th>\n",
       "      <td>0.000100</td>\n",
       "      <td>1.489159</td>\n",
       "      <td>0.414622</td>\n",
       "    </tr>\n",
       "  </tbody>\n",
       "</table>\n",
       "</div>"
      ],
      "text/plain": [
       "    lambdas  C_values  mean_cv_score\n",
       "0  0.100000  0.001489       0.436097\n",
       "1  0.046416  0.003208       0.425331\n",
       "2  0.021544  0.006912       0.417370\n",
       "3  0.010000  0.014892       0.413869\n",
       "4  0.004642  0.032083       0.412313\n",
       "5  0.002154  0.069121       0.412531\n",
       "6  0.001000  0.148916       0.412910\n",
       "7  0.000464  0.320830       0.413630\n",
       "8  0.000215  0.691206       0.414223\n",
       "9  0.000100  1.489159       0.414622"
      ]
     },
     "execution_count": 221,
     "metadata": {},
     "output_type": "execute_result"
    }
   ],
   "source": [
    "cv_summary_lasso = cv_summary(lambdas, C_values, logit_models[\"LASSO\"])\n",
    "cv_summary_lasso[\"mean_cv_score\"] = np.sqrt(cv_summary_lasso[\"mean_cv_score\"] * -1)\n",
    "cv_summary_lasso"
   ]
  },
  {
   "cell_type": "markdown",
   "id": "d5e09de6-144c-4e22-a90e-6d5addb0fe8c",
   "metadata": {},
   "source": [
    "As λ decreases (or C increases), the mean_cv_score initially improves but worsens after a point, indicating that both excessive regularization (small C) and insufficient regularization (large C) harm model performance. The best λ is 0.004642 (or C = 0.032083), corresponding to the lowest mean_cv_score of 0.412313. Save best lambda's index for later use"
   ]
  },
  {
   "cell_type": "code",
   "execution_count": 231,
   "id": "1b98b935-915c-4557-9828-0d99ee10e7aa",
   "metadata": {},
   "outputs": [],
   "source": [
    "best_lambda_i = cv_summary_lasso[\"mean_cv_score\"].idxmin()"
   ]
  },
  {
   "cell_type": "markdown",
   "id": "dfe84076-a23f-49fe-8552-9a39efbfab54",
   "metadata": {},
   "source": [
    "Extract CV test RMSE for the Lasso with best lambda"
   ]
  },
  {
   "cell_type": "code",
   "execution_count": 234,
   "id": "8d9412b3-41de-48a4-adfc-29e6e9d3dda9",
   "metadata": {},
   "outputs": [],
   "source": [
    "CV_RMSE_folds[\"LASSO\"] = np.sqrt(\n",
    "    -1 * logit_models[\"LASSO\"].scores_[1][:, best_lambda_i]\n",
    ")"
   ]
  },
  {
   "cell_type": "markdown",
   "id": "b600cca1-b23f-457b-9606-29527d82eac2",
   "metadata": {},
   "source": [
    "### 3. Random Forest Model"
   ]
  },
  {
   "cell_type": "code",
   "execution_count": 237,
   "id": "8b834480-e0e6-4658-92d2-42e5cf143e7c",
   "metadata": {},
   "outputs": [],
   "source": [
    "y_train, rfvars_train = patsy.dmatrices(\"fast_growth~\" + \"+\".join(rfvars), data_train)\n",
    "y_holdout, rfvars_holdout = patsy.dmatrices(\"fast_growth~\" + \"+\".join(rfvars), data_holdout)"
   ]
  },
  {
   "cell_type": "markdown",
   "id": "6178f61e-41fb-4db8-93aa-8c40c4d97ef5",
   "metadata": {},
   "source": [
    "Split by gini, ratio of 1's in each tree, average over trees"
   ]
  },
  {
   "cell_type": "markdown",
   "id": "a0fa51ff-25f0-4d57-8a92-21cd670d5943",
   "metadata": {},
   "source": [
    "Chose this grid to optimize performance and prevent overfitting for a medium-sized dataset (10k rows, 10+ features), balancing feature selection (max_features), split quality (min_samples_split), and ensemble size of 100 (default n_estimators)."
   ]
  },
  {
   "cell_type": "code",
   "execution_count": 239,
   "id": "36e9ed1e-39a2-4780-a544-82cdef345f0b",
   "metadata": {},
   "outputs": [],
   "source": [
    "grid = {\n",
    "    \"max_features\": [5, 6, 7],\n",
    "    \"criterion\": [\"gini\"],\n",
    "    \"min_samples_split\": [11, 16],\n",
    "} "
   ]
  },
  {
   "cell_type": "markdown",
   "id": "e13173bd-1f81-4c01-ba86-df7fb9884975",
   "metadata": {},
   "source": [
    "5 fold cross validation"
   ]
  },
  {
   "cell_type": "code",
   "execution_count": 243,
   "id": "b02821ca-d968-4342-ab86-8c036faa7736",
   "metadata": {},
   "outputs": [],
   "source": [
    "prob_forest = RandomForestClassifier(random_state=42, n_estimators=500, oob_score=True)\n",
    "prob_forest_grid = GridSearchCV(\n",
    "    prob_forest,\n",
    "    grid,\n",
    "    cv=k,\n",
    "    refit=\"roc_auc\",\n",
    "    scoring=[\"roc_auc\", \"neg_brier_score\"],\n",
    ")"
   ]
  },
  {
   "cell_type": "code",
   "execution_count": 245,
   "id": "33cb3931-5977-49e0-a8bb-6cebcccc5f55",
   "metadata": {},
   "outputs": [],
   "source": [
    "prob_forest_fit = prob_forest_grid.fit(rfvars_train, y_train)"
   ]
  },
  {
   "cell_type": "markdown",
   "id": "d347956a-55aa-4eef-8b46-7fd0a42c60e7",
   "metadata": {},
   "source": [
    "Create CV summary table"
   ]
  },
  {
   "cell_type": "code",
   "execution_count": 248,
   "id": "e6d7147d-0032-4c3b-966e-c3275f263ec0",
   "metadata": {},
   "outputs": [
    {
     "data": {
      "text/html": [
       "<div>\n",
       "<style scoped>\n",
       "    .dataframe tbody tr th:only-of-type {\n",
       "        vertical-align: middle;\n",
       "    }\n",
       "\n",
       "    .dataframe tbody tr th {\n",
       "        vertical-align: top;\n",
       "    }\n",
       "\n",
       "    .dataframe thead th {\n",
       "        text-align: right;\n",
       "    }\n",
       "</style>\n",
       "<table border=\"1\" class=\"dataframe\">\n",
       "  <thead>\n",
       "    <tr style=\"text-align: right;\">\n",
       "      <th></th>\n",
       "      <th>max_features</th>\n",
       "      <th>min_samples_split</th>\n",
       "      <th>cv_auc</th>\n",
       "      <th>cv_rmse</th>\n",
       "    </tr>\n",
       "  </thead>\n",
       "  <tbody>\n",
       "    <tr>\n",
       "      <th>0</th>\n",
       "      <td>5</td>\n",
       "      <td>11</td>\n",
       "      <td>0.653352</td>\n",
       "      <td>0.412235</td>\n",
       "    </tr>\n",
       "    <tr>\n",
       "      <th>1</th>\n",
       "      <td>5</td>\n",
       "      <td>16</td>\n",
       "      <td>0.653364</td>\n",
       "      <td>0.412120</td>\n",
       "    </tr>\n",
       "    <tr>\n",
       "      <th>2</th>\n",
       "      <td>6</td>\n",
       "      <td>11</td>\n",
       "      <td>0.653177</td>\n",
       "      <td>0.412390</td>\n",
       "    </tr>\n",
       "    <tr>\n",
       "      <th>3</th>\n",
       "      <td>6</td>\n",
       "      <td>16</td>\n",
       "      <td>0.654405</td>\n",
       "      <td>0.412199</td>\n",
       "    </tr>\n",
       "    <tr>\n",
       "      <th>4</th>\n",
       "      <td>7</td>\n",
       "      <td>11</td>\n",
       "      <td>0.653464</td>\n",
       "      <td>0.412362</td>\n",
       "    </tr>\n",
       "    <tr>\n",
       "      <th>5</th>\n",
       "      <td>7</td>\n",
       "      <td>16</td>\n",
       "      <td>0.653832</td>\n",
       "      <td>0.412138</td>\n",
       "    </tr>\n",
       "  </tbody>\n",
       "</table>\n",
       "</div>"
      ],
      "text/plain": [
       "  max_features min_samples_split    cv_auc   cv_rmse\n",
       "0            5                11  0.653352  0.412235\n",
       "1            5                16  0.653364  0.412120\n",
       "2            6                11  0.653177  0.412390\n",
       "3            6                16  0.654405  0.412199\n",
       "4            7                11  0.653464  0.412362\n",
       "5            7                16  0.653832  0.412138"
      ]
     },
     "execution_count": 248,
     "metadata": {},
     "output_type": "execute_result"
    }
   ],
   "source": [
    "prob_forest_cv_results = pd.DataFrame(\n",
    "    {\n",
    "        \"max_features\": prob_forest_fit.cv_results_[\"param_max_features\"],\n",
    "        \"min_samples_split\": prob_forest_fit.cv_results_[\"param_min_samples_split\"],\n",
    "        \"cv_auc\": prob_forest_fit.cv_results_[\"mean_test_roc_auc\"],\n",
    "        \"cv_rmse\": np.sqrt(\n",
    "            prob_forest_fit.cv_results_[\"mean_test_neg_brier_score\"] * -1\n",
    "        ),\n",
    "    }\n",
    ")\n",
    "\n",
    "prob_forest_cv_results"
   ]
  },
  {
   "cell_type": "code",
   "execution_count": 263,
   "id": "72e2fbb6-a128-4896-a925-b7b4c93c25fc",
   "metadata": {},
   "outputs": [
    {
     "data": {
      "text/plain": [
       "{'criterion': 'gini', 'max_features': 6, 'min_samples_split': 16}"
      ]
     },
     "execution_count": 263,
     "metadata": {},
     "output_type": "execute_result"
    }
   ],
   "source": [
    "best_mtry = prob_forest_fit.best_params_[\"max_features\"]\n",
    "best_min_node_size = prob_forest_fit.best_params_[\"min_samples_split\"]\n",
    "prob_forest_fit.best_params_"
   ]
  },
  {
   "cell_type": "markdown",
   "id": "e6b9ca68-2ed8-48eb-9130-9a27d48d9245",
   "metadata": {},
   "source": [
    "The best configuration is max_features=6 and min_samples_split=16, as it achieves the highest CV AUC (0.654405) and lowest CV RMSE (0.412120), indicating optimal balance between model performance and generalization.Tt boosts performance (highest AUC, lowest RMSE) while avoiding overfitting. By using 6 features, it keeps the model focused yet flexible, and min_samples_split=16 ensures splits are meaningful.\n",
    "\n",
    "Other combinations perform similarly, suggesting robustness across hyperparameters."
   ]
  },
  {
   "cell_type": "code",
   "execution_count": 277,
   "id": "94e5d772-82cf-465e-bf06-dd52bfee4e60",
   "metadata": {},
   "outputs": [],
   "source": [
    "prob_forest_best_results = prob_forest_cv_results[\n",
    "    (prob_forest_cv_results.max_features == best_mtry)\n",
    "    & (prob_forest_cv_results.min_samples_split == best_min_node_size)\n",
    "]\n",
    "prob_forest_best_results_index = prob_forest_best_results.index.values[0]"
   ]
  },
  {
   "cell_type": "markdown",
   "id": "334c02ea-c22f-492b-96c1-ea0f166b6e5f",
   "metadata": {},
   "source": [
    "### Comparing Model Performances in terms of Prediction Probabilities"
   ]
  },
  {
   "cell_type": "markdown",
   "id": "ae5659a5-4342-40fb-9fc3-e11518f6970a",
   "metadata": {},
   "source": [
    "Calculating AUC for Logit Model"
   ]
  },
  {
   "cell_type": "code",
   "execution_count": 282,
   "id": "6334131d-181b-4618-8238-d649390a72e0",
   "metadata": {},
   "outputs": [],
   "source": [
    "CV_AUC_folds = dict()\n",
    "for i, model_vars in enumerate(logit_model_vars):\n",
    "\n",
    "    model_equation = \"fast_growth~\" + \"+\".join(model_vars)\n",
    "    y_train, X_train = patsy.dmatrices(model_equation, data_train)\n",
    "\n",
    "    LRCV_auc = LogisticRegressionCV(\n",
    "        Cs=C_value_logit,\n",
    "        cv=k,\n",
    "        refit=True,\n",
    "        scoring=\"roc_auc\",\n",
    "        solver=\"newton-cg\",\n",
    "        tol=1e-7,\n",
    "        random_state=42,\n",
    "    )\n",
    "\n",
    "    logit_models[\"M\" + str(i + 1)] = LRCV_auc.fit(X_train, y_train)\n",
    "\n",
    "    # Calculate AUC on test for each fold\n",
    "    CV_AUC_folds[\"M\" + str(i + 1)] = logit_models[\"M\" + str(i + 1)].scores_[1].ravel()"
   ]
  },
  {
   "cell_type": "markdown",
   "id": "6263f81a-5eb4-4da8-97b5-033e985019d3",
   "metadata": {},
   "source": [
    "Calculating AUC for LASSO Model"
   ]
  },
  {
   "cell_type": "code",
   "execution_count": 288,
   "id": "ae81998b-841f-4618-ac96-0549e32c5b54",
   "metadata": {},
   "outputs": [],
   "source": [
    "logLasso_auc = LogisticRegressionCV(\n",
    "    Cs=C_values,\n",
    "    penalty=\"l1\",\n",
    "    cv=k,\n",
    "    refit=True,\n",
    "    scoring=\"roc_auc\",\n",
    "    solver=\"liblinear\",\n",
    "    random_state=42,\n",
    ")\n",
    "logLasso_auc_fitted = logLasso_auc.fit(normalized_logitvars, y_train)\n",
    "\n",
    "CV_AUC_folds[\"LASSO\"] = logLasso_auc_fitted.scores_[1][\n",
    "    :, cv_summary_lasso[\"mean_cv_score\"].idxmin()\n",
    "]"
   ]
  },
  {
   "cell_type": "markdown",
   "id": "20f9af5d-488b-4964-83d8-89483053cc54",
   "metadata": {},
   "source": [
    "Creating a summary for all 3 models"
   ]
  },
  {
   "cell_type": "code",
   "execution_count": 295,
   "id": "4ccdede4-e655-401b-80c9-771fa28f010b",
   "metadata": {},
   "outputs": [],
   "source": [
    "model_fits = pd.DataFrame(logit_models, index=[\"Model fit\"]).T\n",
    "\n",
    "summary = (\n",
    "    model_fits[\"Model fit\"]\n",
    "    .apply(lambda x: x.n_features_in_)\n",
    "    .to_frame(name=\"Number of Coefficients\")\n",
    ")\n",
    "\n",
    "summary.loc[\"LASSO\", \"Number of Coefficients\"] = len(\n",
    "    [i for i in model_fits.loc[\"LASSO\"].values[0].coef_[0] if i != 0]\n",
    ")\n",
    "\n",
    "summary[\"CV RMSE\"] = pd.DataFrame(CV_RMSE_folds).T.mean(axis=1)\n",
    "summary[\"CV AUC\"] = pd.DataFrame(CV_AUC_folds).T.mean(axis=1)"
   ]
  },
  {
   "cell_type": "code",
   "execution_count": 297,
   "id": "093feaee-4ecd-4a73-80ed-7524d4f29b17",
   "metadata": {},
   "outputs": [
    {
     "data": {
      "text/plain": [
       "57"
      ]
     },
     "execution_count": 297,
     "metadata": {},
     "output_type": "execute_result"
    }
   ],
   "source": [
    "sum(x != 0 for x in model_fits.loc[\"LASSO\"].values[0].coef_[0].tolist())"
   ]
  },
  {
   "cell_type": "code",
   "execution_count": 299,
   "id": "73d8829d-2b88-4004-b111-4728cabeb567",
   "metadata": {},
   "outputs": [
    {
     "data": {
      "text/plain": [
       "57"
      ]
     },
     "execution_count": 299,
     "metadata": {},
     "output_type": "execute_result"
    }
   ],
   "source": [
    "len(\n",
    "    [i for i in model_fits.loc[\"LASSO\"].values[0].coef_[0] if i != 0]\n",
    ")"
   ]
  },
  {
   "cell_type": "markdown",
   "id": "52dea4b0-2ecc-4127-a7f1-ac3ab7287940",
   "metadata": {},
   "source": [
    "Adding RF results to the summary as well"
   ]
  },
  {
   "cell_type": "code",
   "execution_count": 307,
   "id": "ba928747-48fb-46ed-8899-be339c70f626",
   "metadata": {},
   "outputs": [],
   "source": [
    "summary.loc[\"RF\", \"Number of Coefficients\"] = \"n.a.\"\n",
    "summary.loc[\"RF\", \"CV RMSE\"] = prob_forest_best_results[\"cv_rmse\"].values[0]\n",
    "summary.loc[\"RF\", \"CV AUC\"] = prob_forest_best_results[\"cv_auc\"].values[0]\n"
   ]
  },
  {
   "cell_type": "markdown",
   "id": "7b619b7a-ce38-44b8-89ad-9a27a61ee090",
   "metadata": {},
   "source": [
    "### Horserace Table - All Models Comparisons in terms of probability metrics"
   ]
  },
  {
   "cell_type": "code",
   "execution_count": 335,
   "id": "9fc719c1-9653-42cf-94c5-449a96aa8045",
   "metadata": {},
   "outputs": [],
   "source": [
    "CV_RMSE_folds[\"RF\"] = np.sqrt(\n",
    "    pd.DataFrame(prob_forest_fit.cv_results_)\n",
    "    .filter(like=\"_test_neg_brier_score\")\n",
    "    .loc[lambda x: x[\"rank_test_neg_brier_score\"] == 1]\n",
    "    .filter(like=\"split\")\n",
    "    .values[0]\n",
    "    * -1\n",
    ")\n",
    "CV_AUC_folds[\"RF\"] = (\n",
    "    pd.DataFrame(prob_forest_fit.cv_results_)\n",
    "    .filter(like=\"_test_roc_auc\")\n",
    "    .loc[lambda x: x[\"rank_test_roc_auc\"] == 1]\n",
    "    .filter(like=\"split\")\n",
    "    .values[0]\n",
    ")"
   ]
  },
  {
   "cell_type": "code",
   "execution_count": 337,
   "id": "339385ff-f608-41b7-9b8b-1c26905f69a3",
   "metadata": {},
   "outputs": [
    {
     "data": {
      "text/html": [
       "<div>\n",
       "<style scoped>\n",
       "    .dataframe tbody tr th:only-of-type {\n",
       "        vertical-align: middle;\n",
       "    }\n",
       "\n",
       "    .dataframe tbody tr th {\n",
       "        vertical-align: top;\n",
       "    }\n",
       "\n",
       "    .dataframe thead th {\n",
       "        text-align: right;\n",
       "    }\n",
       "</style>\n",
       "<table border=\"1\" class=\"dataframe\">\n",
       "  <thead>\n",
       "    <tr style=\"text-align: right;\">\n",
       "      <th></th>\n",
       "      <th>M1</th>\n",
       "      <th>M2</th>\n",
       "      <th>M3</th>\n",
       "      <th>M4</th>\n",
       "      <th>M5</th>\n",
       "      <th>LASSO</th>\n",
       "      <th>RF</th>\n",
       "    </tr>\n",
       "  </thead>\n",
       "  <tbody>\n",
       "    <tr>\n",
       "      <th>0</th>\n",
       "      <td>0.420748</td>\n",
       "      <td>0.418996</td>\n",
       "      <td>0.417536</td>\n",
       "      <td>0.416264</td>\n",
       "      <td>0.418222</td>\n",
       "      <td>0.415191</td>\n",
       "      <td>0.413419</td>\n",
       "    </tr>\n",
       "    <tr>\n",
       "      <th>1</th>\n",
       "      <td>0.415982</td>\n",
       "      <td>0.413959</td>\n",
       "      <td>0.411548</td>\n",
       "      <td>0.411949</td>\n",
       "      <td>0.414574</td>\n",
       "      <td>0.412097</td>\n",
       "      <td>0.412629</td>\n",
       "    </tr>\n",
       "    <tr>\n",
       "      <th>2</th>\n",
       "      <td>0.415077</td>\n",
       "      <td>0.411688</td>\n",
       "      <td>0.409785</td>\n",
       "      <td>0.408819</td>\n",
       "      <td>0.408957</td>\n",
       "      <td>0.408820</td>\n",
       "      <td>0.406878</td>\n",
       "    </tr>\n",
       "    <tr>\n",
       "      <th>3</th>\n",
       "      <td>0.419987</td>\n",
       "      <td>0.418569</td>\n",
       "      <td>0.415383</td>\n",
       "      <td>0.415146</td>\n",
       "      <td>0.418261</td>\n",
       "      <td>0.414648</td>\n",
       "      <td>0.416260</td>\n",
       "    </tr>\n",
       "    <tr>\n",
       "      <th>4</th>\n",
       "      <td>0.420404</td>\n",
       "      <td>0.418054</td>\n",
       "      <td>0.413167</td>\n",
       "      <td>0.411109</td>\n",
       "      <td>0.410574</td>\n",
       "      <td>0.410773</td>\n",
       "      <td>0.411358</td>\n",
       "    </tr>\n",
       "  </tbody>\n",
       "</table>\n",
       "</div>"
      ],
      "text/plain": [
       "         M1        M2        M3        M4        M5     LASSO        RF\n",
       "0  0.420748  0.418996  0.417536  0.416264  0.418222  0.415191  0.413419\n",
       "1  0.415982  0.413959  0.411548  0.411949  0.414574  0.412097  0.412629\n",
       "2  0.415077  0.411688  0.409785  0.408819  0.408957  0.408820  0.406878\n",
       "3  0.419987  0.418569  0.415383  0.415146  0.418261  0.414648  0.416260\n",
       "4  0.420404  0.418054  0.413167  0.411109  0.410574  0.410773  0.411358"
      ]
     },
     "execution_count": 337,
     "metadata": {},
     "output_type": "execute_result"
    }
   ],
   "source": [
    "pd.DataFrame(CV_RMSE_folds)"
   ]
  },
  {
   "cell_type": "markdown",
   "id": "0c7c4786-baef-46c3-8319-d09211fea320",
   "metadata": {},
   "source": [
    "In terms of RMSE, The Random Forest (RF) model consistently shows the lowest RMSE across all folds, indicating it provides the most accurate predictions compared to the other models."
   ]
  },
  {
   "cell_type": "code",
   "execution_count": 339,
   "id": "e8b378f5-2fd3-4318-a34a-d7193f4d3a16",
   "metadata": {},
   "outputs": [
    {
     "data": {
      "text/html": [
       "<div>\n",
       "<style scoped>\n",
       "    .dataframe tbody tr th:only-of-type {\n",
       "        vertical-align: middle;\n",
       "    }\n",
       "\n",
       "    .dataframe tbody tr th {\n",
       "        vertical-align: top;\n",
       "    }\n",
       "\n",
       "    .dataframe thead th {\n",
       "        text-align: right;\n",
       "    }\n",
       "</style>\n",
       "<table border=\"1\" class=\"dataframe\">\n",
       "  <thead>\n",
       "    <tr style=\"text-align: right;\">\n",
       "      <th></th>\n",
       "      <th>M1</th>\n",
       "      <th>M2</th>\n",
       "      <th>M3</th>\n",
       "      <th>M4</th>\n",
       "      <th>M5</th>\n",
       "      <th>LASSO</th>\n",
       "      <th>RF</th>\n",
       "    </tr>\n",
       "  </thead>\n",
       "  <tbody>\n",
       "    <tr>\n",
       "      <th>0</th>\n",
       "      <td>0.573816</td>\n",
       "      <td>0.600312</td>\n",
       "      <td>0.612479</td>\n",
       "      <td>0.623644</td>\n",
       "      <td>0.622341</td>\n",
       "      <td>0.627107</td>\n",
       "      <td>0.641559</td>\n",
       "    </tr>\n",
       "    <tr>\n",
       "      <th>1</th>\n",
       "      <td>0.619254</td>\n",
       "      <td>0.634024</td>\n",
       "      <td>0.650485</td>\n",
       "      <td>0.644676</td>\n",
       "      <td>0.640781</td>\n",
       "      <td>0.651885</td>\n",
       "      <td>0.649936</td>\n",
       "    </tr>\n",
       "    <tr>\n",
       "      <th>2</th>\n",
       "      <td>0.628316</td>\n",
       "      <td>0.658235</td>\n",
       "      <td>0.674465</td>\n",
       "      <td>0.670363</td>\n",
       "      <td>0.673527</td>\n",
       "      <td>0.682836</td>\n",
       "      <td>0.685392</td>\n",
       "    </tr>\n",
       "    <tr>\n",
       "      <th>3</th>\n",
       "      <td>0.586182</td>\n",
       "      <td>0.598892</td>\n",
       "      <td>0.630279</td>\n",
       "      <td>0.632673</td>\n",
       "      <td>0.623879</td>\n",
       "      <td>0.633631</td>\n",
       "      <td>0.623504</td>\n",
       "    </tr>\n",
       "    <tr>\n",
       "      <th>4</th>\n",
       "      <td>0.603226</td>\n",
       "      <td>0.624596</td>\n",
       "      <td>0.657167</td>\n",
       "      <td>0.669089</td>\n",
       "      <td>0.669610</td>\n",
       "      <td>0.668235</td>\n",
       "      <td>0.671633</td>\n",
       "    </tr>\n",
       "  </tbody>\n",
       "</table>\n",
       "</div>"
      ],
      "text/plain": [
       "         M1        M2        M3        M4        M5     LASSO        RF\n",
       "0  0.573816  0.600312  0.612479  0.623644  0.622341  0.627107  0.641559\n",
       "1  0.619254  0.634024  0.650485  0.644676  0.640781  0.651885  0.649936\n",
       "2  0.628316  0.658235  0.674465  0.670363  0.673527  0.682836  0.685392\n",
       "3  0.586182  0.598892  0.630279  0.632673  0.623879  0.633631  0.623504\n",
       "4  0.603226  0.624596  0.657167  0.669089  0.669610  0.668235  0.671633"
      ]
     },
     "execution_count": 339,
     "metadata": {},
     "output_type": "execute_result"
    }
   ],
   "source": [
    "pd.DataFrame(CV_AUC_folds)"
   ]
  },
  {
   "cell_type": "markdown",
   "id": "2e7f239c-130d-4d2f-a2f4-9928485a5650",
   "metadata": {},
   "source": [
    "Also in terms of AUC, The Random Forest (RF) model demonstrates a relatively stable and strong performance with consistent high AUC scores across all folds, indicating it is the most reliable model in distinguishing between classes. While other models such as M5 and LASSO also show competitive AUC values, RF stands out as the most robust in capturing the underlying patterns for classification."
   ]
  },
  {
   "cell_type": "code",
   "execution_count": 344,
   "id": "ad45d5e2-fb56-46f3-9985-b1abc9d6312c",
   "metadata": {},
   "outputs": [
    {
     "data": {
      "text/html": [
       "<div>\n",
       "<style scoped>\n",
       "    .dataframe tbody tr th:only-of-type {\n",
       "        vertical-align: middle;\n",
       "    }\n",
       "\n",
       "    .dataframe tbody tr th {\n",
       "        vertical-align: top;\n",
       "    }\n",
       "\n",
       "    .dataframe thead th {\n",
       "        text-align: right;\n",
       "    }\n",
       "</style>\n",
       "<table border=\"1\" class=\"dataframe\">\n",
       "  <thead>\n",
       "    <tr style=\"text-align: right;\">\n",
       "      <th></th>\n",
       "      <th>Number of Coefficients</th>\n",
       "      <th>CV RMSE</th>\n",
       "      <th>CV AUC</th>\n",
       "    </tr>\n",
       "  </thead>\n",
       "  <tbody>\n",
       "    <tr>\n",
       "      <th>M1</th>\n",
       "      <td>12.0</td>\n",
       "      <td>0.418440</td>\n",
       "      <td>0.602159</td>\n",
       "    </tr>\n",
       "    <tr>\n",
       "      <th>M2</th>\n",
       "      <td>19.0</td>\n",
       "      <td>0.416253</td>\n",
       "      <td>0.623212</td>\n",
       "    </tr>\n",
       "    <tr>\n",
       "      <th>M3</th>\n",
       "      <td>36.0</td>\n",
       "      <td>0.413484</td>\n",
       "      <td>0.644975</td>\n",
       "    </tr>\n",
       "    <tr>\n",
       "      <th>M4</th>\n",
       "      <td>79.0</td>\n",
       "      <td>0.412657</td>\n",
       "      <td>0.648089</td>\n",
       "    </tr>\n",
       "    <tr>\n",
       "      <th>M5</th>\n",
       "      <td>153.0</td>\n",
       "      <td>0.414117</td>\n",
       "      <td>0.646028</td>\n",
       "    </tr>\n",
       "    <tr>\n",
       "      <th>LASSO</th>\n",
       "      <td>57.0</td>\n",
       "      <td>0.412306</td>\n",
       "      <td>0.652739</td>\n",
       "    </tr>\n",
       "    <tr>\n",
       "      <th>RF</th>\n",
       "      <td>n.a.</td>\n",
       "      <td>0.412199</td>\n",
       "      <td>0.654405</td>\n",
       "    </tr>\n",
       "  </tbody>\n",
       "</table>\n",
       "</div>"
      ],
      "text/plain": [
       "      Number of Coefficients   CV RMSE    CV AUC\n",
       "M1                      12.0  0.418440  0.602159\n",
       "M2                      19.0  0.416253  0.623212\n",
       "M3                      36.0  0.413484  0.644975\n",
       "M4                      79.0  0.412657  0.648089\n",
       "M5                     153.0  0.414117  0.646028\n",
       "LASSO                   57.0  0.412306  0.652739\n",
       "RF                      n.a.  0.412199  0.654405"
      ]
     },
     "execution_count": 344,
     "metadata": {},
     "output_type": "execute_result"
    }
   ],
   "source": [
    "#Combined Summary for best Fold of each model.\n",
    "summary"
   ]
  },
  {
   "cell_type": "markdown",
   "id": "36a414d1-b2dc-4649-96e3-83f8106e55ea",
   "metadata": {},
   "source": [
    "Finally, Choose Random Forest (RF) because it has the lowest CV RMSE (0.412199), meaning it minimizes prediction errors, and the highest CV AUC (0.654405), ensuring the best probability ranking. While logistic models like M4 offer better interpretability, RF provides superior predictive performance, making it the best choice as our goal is to minimize expected loss."
   ]
  },
  {
   "cell_type": "markdown",
   "id": "c0059a5e-79a5-4418-810b-249b0d447b00",
   "metadata": {},
   "source": [
    "## Part 2 - Classification"
   ]
  },
  {
   "cell_type": "markdown",
   "id": "31040dd5-714a-489f-88dd-f9c2fb5d9f6b",
   "metadata": {},
   "source": [
    "### Defining business problem and loss function"
   ]
  },
  {
   "cell_type": "markdown",
   "id": "6df79348-b433-4916-ae3f-a0a7ee7e9e5e",
   "metadata": {},
   "source": [
    "Relative cost of of a false negative classification (as compared with a false positive classification)"
   ]
  },
  {
   "cell_type": "markdown",
   "id": "4ed02367-1dfd-442c-9651-90a106c31e86",
   "metadata": {},
   "source": [
    "The business problem is identifying fast-growing firms for investment, where the goal is to target firms with a CAGR greater than 20%. A 10:1 ratio is chosen because missing a fast-growing firm (False Negative) leads to significant revenue loss, while the cost of pursuing a non-growth firm (False Positive) is typically lower and can be managed. This ratio strikes a right balance by ensuring the model focuses on identifying growth firms without being overly cautious, which could lead to missing profitable opportunities, as a higher penalty (like 20:1) might overly constrain the model."
   ]
  },
  {
   "cell_type": "code",
   "execution_count": 322,
   "id": "7cb36e0f-026d-46a7-afea-4d1f80253da2",
   "metadata": {},
   "outputs": [],
   "source": [
    "FP = 1\n",
    "FN = 10\n",
    "cost = FN / FP"
   ]
  },
  {
   "cell_type": "code",
   "execution_count": 324,
   "id": "f8550660-e8b3-4b27-853d-9a56e124e122",
   "metadata": {},
   "outputs": [],
   "source": [
    "prevelance = y_train.sum() / len(y_train)"
   ]
  },
  {
   "cell_type": "markdown",
   "id": "6ab276e5-a6da-4aa4-8516-12b95de8a044",
   "metadata": {},
   "source": [
    "Drawing ROC Curve and finding optimal threshold with loss function. (The optimal cut-off is the threshold that maximizes the distance to the identity (diagonal) line)\n",
    "\n",
    "Iterating through: \n",
    "1)Models\n",
    "2) Folds"
   ]
  },
  {
   "cell_type": "code",
   "execution_count": 348,
   "id": "41e7c50d-f9bf-403c-893d-6c15be960184",
   "metadata": {},
   "outputs": [],
   "source": [
    "best_thresholds = list()\n",
    "expected_loss = list()\n",
    "rfvars_train = pd.DataFrame(rfvars_train)\n",
    "\n",
    "fold = 0\n",
    "for train_index, test_index in k.split(rfvars_train):\n",
    "    X_fold = rfvars_train.iloc[test_index, :]\n",
    "    y_fold = data_train[\"fast_growth\"].iloc[test_index]\n",
    "\n",
    "    X_fold_train = rfvars_train.iloc[train_index, :]\n",
    "    y_fold_train = data_train[\"fast_growth\"].iloc[train_index]\n",
    "\n",
    "    prob_forest_best = RandomForestClassifier(\n",
    "        random_state=42,\n",
    "        n_estimators=500,\n",
    "        oob_score=True,\n",
    "        criterion=\"gini\",\n",
    "        max_features=best_mtry,\n",
    "        min_samples_split=best_min_node_size,\n",
    "    )\n",
    "    prob_forest_best_fold = prob_forest_best.fit(X_fold_train, y_fold_train)\n",
    "    pred_fold = prob_forest_best_fold.predict_proba(X_fold)[:, 1]\n",
    "\n",
    "    false_pos_rate, true_pos_rate, threshold = roc_curve(y_fold, pred_fold)\n",
    "    best_threshold = sorted(\n",
    "        list(\n",
    "            zip(\n",
    "                np.abs(\n",
    "                    true_pos_rate\n",
    "                    + (1 - prevelance) / (cost * prevelance) * (1 - false_pos_rate)\n",
    "                ),\n",
    "                threshold,\n",
    "            )\n",
    "        ),\n",
    "        key=lambda x: x[0],\n",
    "        reverse=True,\n",
    "    )[0][1]\n",
    "    best_thresholds.append(best_threshold)\n",
    "    threshold_prediction = np.where(pred_fold < best_threshold, 0, 1)\n",
    "    tn, fp, fn, tp = confusion_matrix(\n",
    "        y_fold, threshold_prediction, labels=[0, 1]\n",
    "    ).ravel()\n",
    "    curr_exp_loss = (fp * FP + fn * FN) / len(y_fold)\n",
    "    expected_loss.append(curr_exp_loss)\n",
    "\n",
    "fold5_threshold_rf = best_threshold\n",
    "fold5_expected_loss_rf = curr_exp_loss\n",
    "\n",
    "all_coords_rf = pd.DataFrame(\n",
    "    {\n",
    "        \"false_pos\": false_pos_rate * sum(y_fold == 0),\n",
    "        \"true_pos\": true_pos_rate * sum(y_fold == 1),\n",
    "        \"false_neg\": sum(y_fold == 1) - true_pos_rate * sum(y_fold == 1),\n",
    "        \"true_neg\": sum(y_fold == 0) - false_pos_rate * sum(y_fold == 0),\n",
    "        \"pos\": sum(y_fold == 1),\n",
    "        \"neg\": sum(y_fold == 0),\n",
    "        \"n\": len(y_fold),\n",
    "        \"thresholds\": threshold,\n",
    "    }\n",
    ")"
   ]
  },
  {
   "cell_type": "code",
   "execution_count": 351,
   "id": "841582af-6e93-47e6-aa1d-9d88fb9142bf",
   "metadata": {},
   "outputs": [],
   "source": [
    "expected_loss_cv[\"RF\"] = np.mean(expected_loss)\n",
    "best_thresholds_cv[\"RF\"] = np.mean(best_thresholds)"
   ]
  },
  {
   "cell_type": "code",
   "execution_count": 353,
   "id": "435eef79-a4b0-40bd-9e50-4ec31d6465cd",
   "metadata": {},
   "outputs": [
    {
     "data": {
      "text/html": [
       "<div>\n",
       "<style scoped>\n",
       "    .dataframe tbody tr th:only-of-type {\n",
       "        vertical-align: middle;\n",
       "    }\n",
       "\n",
       "    .dataframe tbody tr th {\n",
       "        vertical-align: top;\n",
       "    }\n",
       "\n",
       "    .dataframe thead th {\n",
       "        text-align: right;\n",
       "    }\n",
       "</style>\n",
       "<table border=\"1\" class=\"dataframe\">\n",
       "  <thead>\n",
       "    <tr style=\"text-align: right;\">\n",
       "      <th></th>\n",
       "      <th>CV RMSE</th>\n",
       "      <th>CV AUC</th>\n",
       "      <th>Avg of optimal thresholds</th>\n",
       "      <th>Threshold for Fold5</th>\n",
       "      <th>Avg expected loss</th>\n",
       "      <th>Expected loss for Fold5</th>\n",
       "    </tr>\n",
       "  </thead>\n",
       "  <tbody>\n",
       "    <tr>\n",
       "      <th>0</th>\n",
       "      <td>0.412</td>\n",
       "      <td>0.654</td>\n",
       "      <td>0.099</td>\n",
       "      <td>0.108</td>\n",
       "      <td>0.736</td>\n",
       "      <td>0.713</td>\n",
       "    </tr>\n",
       "  </tbody>\n",
       "</table>\n",
       "</div>"
      ],
      "text/plain": [
       "   CV RMSE  CV AUC  Avg of optimal thresholds  Threshold for Fold5  \\\n",
       "0    0.412   0.654                      0.099                0.108   \n",
       "\n",
       "   Avg expected loss  Expected loss for Fold5  \n",
       "0              0.736                    0.713  "
      ]
     },
     "execution_count": 353,
     "metadata": {},
     "output_type": "execute_result"
    }
   ],
   "source": [
    "rf_summary = pd.DataFrame(\n",
    "    {\n",
    "        \"CV RMSE\": [round(prob_forest_best_results[\"cv_rmse\"].values[0], 3)],\n",
    "        \"CV AUC\": [round(prob_forest_best_results[\"cv_auc\"].values[0], 3)],\n",
    "        \"Avg of optimal thresholds\": [round(best_thresholds_cv[\"RF\"], 3)],\n",
    "        \"Threshold for Fold5\": [round(best_threshold, 3)],\n",
    "        \"Avg expected loss\": [round(expected_loss_cv[\"RF\"], 3)],\n",
    "        \"Expected loss for Fold5\": [round(curr_exp_loss, 3)],\n",
    "    }\n",
    ")\n",
    "\n",
    "rf_summary"
   ]
  },
  {
   "cell_type": "markdown",
   "id": "2d14f668-76d6-46f2-bbc2-44820f819b5c",
   "metadata": {},
   "source": [
    "Creating plots based on Fold5 in CV"
   ]
  },
  {
   "cell_type": "code",
   "execution_count": 356,
   "id": "5063ceda-87c4-45bb-899f-af5823e964c4",
   "metadata": {},
   "outputs": [
    {
     "data": {
      "image/png": "[encoded data removed]"
     },
     "metadata": {
      "image/png": {
       "height": 480,
       "width": 640
      }
     },
     "output_type": "display_data"
    }
   ],
   "source": [
    "create_loss_plot(all_coords_rf, fold5_threshold_rf, fold5_expected_loss_rf)"
   ]
  },
  {
   "cell_type": "code",
   "execution_count": 358,
   "id": "1110ae6b-f279-405e-8ac1-f820a5a90486",
   "metadata": {},
   "outputs": [
    {
     "data": {
      "image/png": "[encoded data removed]"
     },
     "metadata": {
      "image/png": {
       "height": 480,
       "width": 640
      }
     },
     "output_type": "display_data"
    }
   ],
   "source": [
    "create_roc_plot_with_optimal(all_coords_rf, fold5_threshold_rf)"
   ]
  },
  {
   "cell_type": "markdown",
   "id": "dda2fc7e-e4d3-4d02-9989-3096decf6d3b",
   "metadata": {},
   "source": [
    "### Testing our best model - Random Forest, on holout set"
   ]
  },
  {
   "cell_type": "markdown",
   "id": "c81a86cb-3933-448b-abe2-36a5aaf4a643",
   "metadata": {},
   "source": [
    "Take model to holdout and estimate RMSE, AUC and expected loss"
   ]
  },
  {
   "cell_type": "markdown",
   "id": "36e6a260-162c-42fb-92f3-c0afbdf3fadc",
   "metadata": {},
   "source": [
    "*RMSE on Holout Set*"
   ]
  },
  {
   "cell_type": "code",
   "execution_count": 362,
   "id": "284bf9db-c801-41bb-96e0-990943b26141",
   "metadata": {},
   "outputs": [
    {
     "data": {
      "text/plain": [
       "0.416"
      ]
     },
     "execution_count": 362,
     "metadata": {},
     "output_type": "execute_result"
    }
   ],
   "source": [
    "prob_forest_fit_best = prob_forest_fit.best_estimator_\n",
    "rf_predicted_probabilities_holdout = prob_forest_fit_best.predict_proba(rfvars_holdout)[\n",
    "    :, 1\n",
    "]\n",
    "rmse_rf = np.sqrt(mean_squared_error(y_holdout, rf_predicted_probabilities_holdout))\n",
    "round(rmse_rf, 3)"
   ]
  },
  {
   "cell_type": "markdown",
   "id": "ba284df7-32dd-4cb5-96fd-a84e43a88ee2",
   "metadata": {},
   "source": [
    "*ROC AUC on Holdout Set*"
   ]
  },
  {
   "cell_type": "code",
   "execution_count": 368,
   "id": "e00693d7-c255-4109-a5d9-07b396d63575",
   "metadata": {},
   "outputs": [
    {
     "data": {
      "text/plain": [
       "0.667"
      ]
     },
     "execution_count": 368,
     "metadata": {},
     "output_type": "execute_result"
    }
   ],
   "source": [
    "auc_rf = roc_auc_score(y_holdout, rf_predicted_probabilities_holdout)\n",
    "round(auc_rf, 3)"
   ]
  },
  {
   "cell_type": "markdown",
   "id": "54c90ce9-9926-4e4f-8a5f-07bf04690729",
   "metadata": {},
   "source": [
    "*Expected Loss on Holdout Set*"
   ]
  },
  {
   "cell_type": "code",
   "execution_count": 371,
   "id": "bbef6c2b-37e0-44a2-96f5-df81d94ff900",
   "metadata": {},
   "outputs": [
    {
     "data": {
      "text/plain": [
       "0.747"
      ]
     },
     "execution_count": 371,
     "metadata": {},
     "output_type": "execute_result"
    }
   ],
   "source": [
    "holdout_treshold = np.where(\n",
    "    rf_predicted_probabilities_holdout < best_thresholds_cv[\"RF\"], 0, 1\n",
    ")\n",
    "tn, fp, fn, tp = confusion_matrix(y_holdout, holdout_treshold, labels=[0, 1]).ravel()\n",
    "expected_loss_holdout = (fp * FP + fn * FN) / len(y_holdout)\n",
    "round(expected_loss_holdout, 3)"
   ]
  },
  {
   "cell_type": "markdown",
   "id": "71b5dde7-d374-4a92-8716-bde73f4bad62",
   "metadata": {},
   "source": [
    "## PART 3: Discussion of Results"
   ]
  },
  {
   "cell_type": "markdown",
   "id": "bc809bdd-202b-44b4-a477-9c029b3e7759",
   "metadata": {},
   "source": [
    "*Confusion Matrix on Holdout*"
   ]
  },
  {
   "cell_type": "code",
   "execution_count": 379,
   "id": "e24177e7-5135-4d97-bdda-ef7e490bd95c",
   "metadata": {},
   "outputs": [
    {
     "data": {
      "text/html": [
       "<div>\n",
       "<style scoped>\n",
       "    .dataframe tbody tr th:only-of-type {\n",
       "        vertical-align: middle;\n",
       "    }\n",
       "\n",
       "    .dataframe tbody tr th {\n",
       "        vertical-align: top;\n",
       "    }\n",
       "\n",
       "    .dataframe thead th {\n",
       "        text-align: right;\n",
       "    }\n",
       "</style>\n",
       "<table border=\"1\" class=\"dataframe\">\n",
       "  <thead>\n",
       "    <tr style=\"text-align: right;\">\n",
       "      <th></th>\n",
       "      <th>Predicted no fast growth</th>\n",
       "      <th>Predicted fast growth</th>\n",
       "    </tr>\n",
       "  </thead>\n",
       "  <tbody>\n",
       "    <tr>\n",
       "      <th>Actual no fast growth</th>\n",
       "      <td>83</td>\n",
       "      <td>1498</td>\n",
       "    </tr>\n",
       "    <tr>\n",
       "      <th>Actual fast growth</th>\n",
       "      <td>7</td>\n",
       "      <td>511</td>\n",
       "    </tr>\n",
       "  </tbody>\n",
       "</table>\n",
       "</div>"
      ],
      "text/plain": [
       "                       Predicted no fast growth  Predicted fast growth\n",
       "Actual no fast growth                        83                   1498\n",
       "Actual fast growth                            7                    511"
      ]
     },
     "execution_count": 379,
     "metadata": {},
     "output_type": "execute_result"
    }
   ],
   "source": [
    "cm_object3 = confusion_matrix(data_holdout[\"fast_growth\"], holdout_treshold, labels=[0, 1])\n",
    "cm3 = pd.DataFrame(\n",
    "    cm_object3,\n",
    "    index=[\"Actual no fast growth\", \"Actual fast growth\"],\n",
    "    columns=[\"Predicted no fast growth\", \"Predicted fast growth\"],\n",
    ")\n",
    "cm3"
   ]
  },
  {
   "cell_type": "markdown",
   "id": "15bb0b0f-6db6-4ad6-81c2-3b3ecd4887c5",
   "metadata": {},
   "source": [
    "The model performs well in identifying firms that have fast growth (high TP of 511), but it also has a high number of false positives (1498), indicating it tends to over-predict fast growth. The number of false negatives (7) is quite low, suggesting the model does not miss many fast-growing firms, which is crucial for an investment strategy aiming to capture all potential growth opportunities. However, the large number of false positives may result in investing in firms that aren't actually growing fast, leading to inefficiencies."
   ]
  },
  {
   "cell_type": "markdown",
   "id": "6116ae4e-3532-41ce-b84e-aab1d934f62c",
   "metadata": {},
   "source": [
    "With the 10:1 loss function we defined, we're prioritizing not missing any fast-growing firms, which is why the model has a low false negative count (only 7). This is good for ensuring we don’t overlook potential investment opportunities. However, the high number of false positives (1498) suggests the model might be too cautious, predicting fast growth more often to avoid missing any potential winners. If we changed the loss function to a higher ratio (like 20:1), it might reduce false positives, but we could risk missing more fast-growing firms. On the other hand, lowering the penalty for false negatives (say, to 5:1) could help us capture more fast-growing firms, but it might lead to more false positives, meaning we'd be investing in firms that aren’t actually growing as fast."
   ]
  },
  {
   "cell_type": "markdown",
   "id": "ac822daf-fa31-4d23-983d-4ad10592b029",
   "metadata": {},
   "source": [
    "\n",
    "\n",
    "Accuracy is low at about 28.3%, meaning that the model doesn't perform well overall.\n",
    "Sensitivity is high at 98.7%, meaning that it does a good job identifying actual fast-growing firms.\n",
    "Specificity is very low at 5.2%, which means the model is struggling to correctly identify the non-fast-growing firms.\n",
    "Precision is also low at 25.4%, meaning that most of the firms predicted as fast-growing aren't actually fast-growing.\n",
    "The F1 score of 0.402 reflects the balance between precision and recall, indicating that there is room for improvement in the model.\n",
    "\n",
    "In terms of business goals, the model is highly sensitive (which is good for identifying fast-growing firms to invest in), but it misclassifies a lot of non-fast-growing firms as fast-growing, which might lead to too many incorrect investment decisions."
   ]
  },
  {
   "cell_type": "markdown",
   "id": "07487b16-da96-419e-a37d-f0c23dc0b01b",
   "metadata": {},
   "source": [
    "# Task 2: Training & Testing model on 2 different industries"
   ]
  },
  {
   "cell_type": "markdown",
   "id": "3d4cf0ca-6edd-4f74-9e06-1e13fc018259",
   "metadata": {},
   "source": [
    "### 0. Defining a single loss function for both industries"
   ]
  },
  {
   "cell_type": "markdown",
   "id": "8ffd1cb8-a6a5-45d7-a3b0-e07566f23165",
   "metadata": {},
   "source": [
    "In both manufacturing and service industries, missing a high-potential firm (false negative) leads to lost investment opportunities, which is significantly more costly than evaluating a less promising firm (false positive)."
   ]
  },
  {
   "cell_type": "code",
   "execution_count": 598,
   "id": "cf120058-47fe-451a-8392-b654767ac9af",
   "metadata": {},
   "outputs": [],
   "source": [
    "FP = 1\n",
    "FN = 10\n",
    "cost = FN / FP"
   ]
  },
  {
   "cell_type": "markdown",
   "id": "f8ca8ee3-fcd8-4c2e-8e72-6dbc67f4e132",
   "metadata": {},
   "source": [
    "## 1 Manufatcuring Industry"
   ]
  },
  {
   "cell_type": "code",
   "execution_count": 571,
   "id": "aa4ec0f2-6abd-4c3e-8e1e-7c26ead9ac54",
   "metadata": {},
   "outputs": [],
   "source": [
    "# Filter the 'data' dataset where values in 'ind2' column are less than 33 for manufacturing industry\n",
    "data1 = data[data['ind2'] < 33]\n"
   ]
  },
  {
   "cell_type": "code",
   "execution_count": 573,
   "id": "c7cd0204-a51e-47bb-9d19-ce36bc596540",
   "metadata": {},
   "outputs": [
    {
     "name": "stdout",
     "output_type": "stream",
     "text": [
      "(2735, 118)\n"
     ]
    }
   ],
   "source": [
    "print(data1.shape)\n"
   ]
  },
  {
   "cell_type": "markdown",
   "id": "4fcb64b5-3656-406d-a08a-f675f426e499",
   "metadata": {},
   "source": [
    "Train and test split, use rf best estimator of full dataset to fit model on manufacturings train set first, then predict on manufacturing holdout to do auc, rv, confusion matrix."
   ]
  },
  {
   "cell_type": "markdown",
   "id": "30f7f8dd-779f-4288-8ae4-de39a4c3c591",
   "metadata": {},
   "source": [
    "Splitting manufacturing dataset into train and test"
   ]
  },
  {
   "cell_type": "code",
   "execution_count": 580,
   "id": "3a4c9c23-0b48-4dbc-9a33-d201bf67ebc7",
   "metadata": {},
   "outputs": [],
   "source": [
    "data1_train, data1_holdout = train_test_split(data1, train_size=0.8, random_state=42)"
   ]
  },
  {
   "cell_type": "code",
   "execution_count": 582,
   "id": "f4a0e7cd-fd8c-42fa-aaa5-85610e68eb62",
   "metadata": {},
   "outputs": [],
   "source": [
    "y1_train, rfvars1_train = patsy.dmatrices(\"fast_growth~\" + \"+\".join(rfvars), data1_train)\n",
    "y1_holdout, rfvars1_holdout = patsy.dmatrices(\"fast_growth~\" + \"+\".join(rfvars), data1_holdout)"
   ]
  },
  {
   "cell_type": "markdown",
   "id": "83be29e2-b72c-4d7c-ae5d-375b79393ada",
   "metadata": {},
   "source": [
    "Training a new model using on train set of 'manufacturing' dataset's train using best estimators RF model of full dataset"
   ]
  },
  {
   "cell_type": "code",
   "execution_count": 585,
   "id": "d7f2768d-30c4-45b7-803f-f211b94c637c",
   "metadata": {},
   "outputs": [],
   "source": [
    "prob_forest_fit_manufacturing = prob_forest_fit_best.fit(rfvars1_train, y1_train)"
   ]
  },
  {
   "cell_type": "markdown",
   "id": "a96b7867-85c7-4270-9176-29492b11b559",
   "metadata": {},
   "source": [
    "RMSE on Manufacturing holdout set"
   ]
  },
  {
   "cell_type": "code",
   "execution_count": 589,
   "id": "ab914bab-53a0-4160-b8ab-ac5ef362b2f7",
   "metadata": {},
   "outputs": [
    {
     "data": {
      "text/plain": [
       "0.445"
      ]
     },
     "execution_count": 589,
     "metadata": {},
     "output_type": "execute_result"
    }
   ],
   "source": [
    "rf_predicted_probabilities_manufacturing_holdout = prob_forest_fit_manufacturing.predict_proba(rfvars1_holdout)[\n",
    "    :, 1\n",
    "]\n",
    "rmse_rf = np.sqrt(mean_squared_error(y1_holdout, rf_predicted_probabilities_manufacturing_holdout))\n",
    "round(rmse_rf, 3)"
   ]
  },
  {
   "cell_type": "markdown",
   "id": "065b165d-24e7-4ebc-8253-b2c21ff1c50f",
   "metadata": {},
   "source": [
    "AUC on Manufacturing holdout set"
   ]
  },
  {
   "cell_type": "code",
   "execution_count": 591,
   "id": "3ac54c7b-27c2-4fcc-8ac1-62e4efd2872b",
   "metadata": {},
   "outputs": [
    {
     "data": {
      "text/plain": [
       "0.639"
      ]
     },
     "execution_count": 591,
     "metadata": {},
     "output_type": "execute_result"
    }
   ],
   "source": [
    "auc_rf = roc_auc_score(y1_holdout, rf_predicted_probabilities_manufacturing_holdout)\n",
    "round(auc_rf, 3)"
   ]
  },
  {
   "cell_type": "markdown",
   "id": "67ece327-2aad-4886-840f-3202f68e297b",
   "metadata": {},
   "source": [
    "Expected loss on Manufacturing holdout set"
   ]
  },
  {
   "cell_type": "code",
   "execution_count": 601,
   "id": "7d710595-d177-421a-bf5f-fff0b8ca3dcb",
   "metadata": {},
   "outputs": [
    {
     "data": {
      "text/plain": [
       "0.737"
      ]
     },
     "execution_count": 601,
     "metadata": {},
     "output_type": "execute_result"
    }
   ],
   "source": [
    "holdout1_treshold = np.where(\n",
    "    rf_predicted_probabilities_manufacturing_holdout < best_thresholds_cv[\"RF\"], 0, 1\n",
    ")\n",
    "tn, fp, fn, tp = confusion_matrix(y1_holdout, holdout1_treshold, labels=[0, 1]).ravel()\n",
    "expected_loss_holdout = (fp * FP + fn * FN) / len(y1_holdout)\n",
    "round(expected_loss_holdout, 3)"
   ]
  },
  {
   "cell_type": "markdown",
   "id": "a9a3afed-eed5-4070-aa54-ebab5add9fe6",
   "metadata": {},
   "source": [
    "Confusion Table on Manufacturing holdout set"
   ]
  },
  {
   "cell_type": "code",
   "execution_count": 603,
   "id": "37c2a382-bea8-4464-a558-2a17eb5d58c9",
   "metadata": {},
   "outputs": [
    {
     "data": {
      "text/html": [
       "<div>\n",
       "<style scoped>\n",
       "    .dataframe tbody tr th:only-of-type {\n",
       "        vertical-align: middle;\n",
       "    }\n",
       "\n",
       "    .dataframe tbody tr th {\n",
       "        vertical-align: top;\n",
       "    }\n",
       "\n",
       "    .dataframe thead th {\n",
       "        text-align: right;\n",
       "    }\n",
       "</style>\n",
       "<table border=\"1\" class=\"dataframe\">\n",
       "  <thead>\n",
       "    <tr style=\"text-align: right;\">\n",
       "      <th></th>\n",
       "      <th>Predicted no fast growth</th>\n",
       "      <th>Predicted fast growth</th>\n",
       "    </tr>\n",
       "  </thead>\n",
       "  <tbody>\n",
       "    <tr>\n",
       "      <th>Actual no fast growth</th>\n",
       "      <td>14</td>\n",
       "      <td>373</td>\n",
       "    </tr>\n",
       "    <tr>\n",
       "      <th>Actual fast growth</th>\n",
       "      <td>3</td>\n",
       "      <td>157</td>\n",
       "    </tr>\n",
       "  </tbody>\n",
       "</table>\n",
       "</div>"
      ],
      "text/plain": [
       "                       Predicted no fast growth  Predicted fast growth\n",
       "Actual no fast growth                        14                    373\n",
       "Actual fast growth                            3                    157"
      ]
     },
     "execution_count": 603,
     "metadata": {},
     "output_type": "execute_result"
    }
   ],
   "source": [
    "cm_object3_m = confusion_matrix(data1_holdout[\"fast_growth\"], holdout1_treshold, labels=[0, 1])\n",
    "cm3_m = pd.DataFrame(\n",
    "    cm_object3_m,\n",
    "    index=[\"Actual no fast growth\", \"Actual fast growth\"],\n",
    "    columns=[\"Predicted no fast growth\", \"Predicted fast growth\"],\n",
    ")\n",
    "cm3_m"
   ]
  },
  {
   "cell_type": "markdown",
   "id": "8b540c60-f87e-41da-9ee1-64c40a62ff46",
   "metadata": {},
   "source": [
    "## 2. Service Industry"
   ]
  },
  {
   "cell_type": "code",
   "execution_count": 606,
   "id": "eb8e6b04-d846-460d-b956-e523c898c740",
   "metadata": {},
   "outputs": [],
   "source": [
    "# Filter the 'data' dataset where values in 'ind2' column are equal or greater than 33 for service industry\n",
    "data2 = data[data['ind2'] >= 33]"
   ]
  },
  {
   "cell_type": "code",
   "execution_count": 608,
   "id": "bfb4950e-c693-413f-a975-315184d63a36",
   "metadata": {},
   "outputs": [
    {
     "name": "stdout",
     "output_type": "stream",
     "text": [
      "(7758, 118)\n"
     ]
    }
   ],
   "source": [
    "print(data2.shape)"
   ]
  },
  {
   "cell_type": "markdown",
   "id": "cbd9e352-4dbf-4e4c-b3a3-7739d5b17e87",
   "metadata": {},
   "source": [
    "Splitting service dataset into train and test"
   ]
  },
  {
   "cell_type": "code",
   "execution_count": 610,
   "id": "94fd50dd-3a49-4463-a26a-4fc4718d4520",
   "metadata": {},
   "outputs": [],
   "source": [
    "data2_train, data2_holdout = train_test_split(data2, train_size=0.8, random_state=42)"
   ]
  },
  {
   "cell_type": "code",
   "execution_count": 612,
   "id": "27799280-3253-4f12-b14c-97a20993c714",
   "metadata": {},
   "outputs": [],
   "source": [
    "y2_train, rfvars2_train = patsy.dmatrices(\"fast_growth~\" + \"+\".join(rfvars), data2_train)\n",
    "y2_holdout, rfvars2_holdout = patsy.dmatrices(\"fast_growth~\" + \"+\".join(rfvars), data2_holdout)"
   ]
  },
  {
   "cell_type": "markdown",
   "id": "362a3b71-a8a0-4872-8ec4-0c768084e31d",
   "metadata": {},
   "source": [
    "Training a new model using on train set of 'service' dataset's train using best estimators RF model of full dataset"
   ]
  },
  {
   "cell_type": "code",
   "execution_count": 614,
   "id": "0b993ea8-4547-4b94-b0a8-3ba091d9043b",
   "metadata": {},
   "outputs": [],
   "source": [
    "prob_forest_fit_service = prob_forest_fit_best.fit(rfvars2_train, y2_train)"
   ]
  },
  {
   "cell_type": "markdown",
   "id": "4727d445-87a2-4570-8a57-dbe934624f8e",
   "metadata": {},
   "source": [
    "RMSE on Service holdout set"
   ]
  },
  {
   "cell_type": "code",
   "execution_count": 616,
   "id": "37f57b74-244e-41c0-b98e-3dbcbb9a93f7",
   "metadata": {},
   "outputs": [
    {
     "data": {
      "text/plain": [
       "0.407"
      ]
     },
     "execution_count": 616,
     "metadata": {},
     "output_type": "execute_result"
    }
   ],
   "source": [
    "rf_predicted_probabilities_service_holdout = prob_forest_fit_service.predict_proba(rfvars2_holdout)[\n",
    "    :, 1\n",
    "]\n",
    "rmse_rf = np.sqrt(mean_squared_error(y2_holdout, rf_predicted_probabilities_service_holdout))\n",
    "round(rmse_rf, 3)"
   ]
  },
  {
   "cell_type": "markdown",
   "id": "496e95f6-7abf-4159-8d49-96d77696338c",
   "metadata": {},
   "source": [
    "AUC on Service holdout set"
   ]
  },
  {
   "cell_type": "code",
   "execution_count": 618,
   "id": "9ef6a89d-75fa-404e-825f-59aa02e32aa4",
   "metadata": {},
   "outputs": [
    {
     "data": {
      "text/plain": [
       "0.654"
      ]
     },
     "execution_count": 618,
     "metadata": {},
     "output_type": "execute_result"
    }
   ],
   "source": [
    "auc_rf = roc_auc_score(y2_holdout, rf_predicted_probabilities_service_holdout)\n",
    "round(auc_rf, 3)"
   ]
  },
  {
   "cell_type": "markdown",
   "id": "94ec8be0-ee15-493f-9b95-c86e526e23c1",
   "metadata": {},
   "source": [
    "Expected loss on serive holdout set"
   ]
  },
  {
   "cell_type": "code",
   "execution_count": 620,
   "id": "9cd1eb59-dffd-4174-ad6e-4b47ab5736f3",
   "metadata": {},
   "outputs": [
    {
     "data": {
      "text/plain": [
       "0.772"
      ]
     },
     "execution_count": 620,
     "metadata": {},
     "output_type": "execute_result"
    }
   ],
   "source": [
    "holdout2_treshold = np.where(\n",
    "    rf_predicted_probabilities_service_holdout < best_thresholds_cv[\"RF\"], 0, 1\n",
    ")\n",
    "tn, fp, fn, tp = confusion_matrix(y2_holdout, holdout2_treshold, labels=[0, 1]).ravel()\n",
    "expected_loss_holdout = (fp * FP + fn * FN) / len(y2_holdout)\n",
    "round(expected_loss_holdout, 3)"
   ]
  },
  {
   "cell_type": "markdown",
   "id": "45709a80-247c-4add-9ab8-93af0ed85573",
   "metadata": {},
   "source": [
    "Confusion Table on Service holdout set"
   ]
  },
  {
   "cell_type": "code",
   "execution_count": 622,
   "id": "39822fbb-7dc3-47f3-899f-59514c546142",
   "metadata": {},
   "outputs": [
    {
     "data": {
      "text/html": [
       "<div>\n",
       "<style scoped>\n",
       "    .dataframe tbody tr th:only-of-type {\n",
       "        vertical-align: middle;\n",
       "    }\n",
       "\n",
       "    .dataframe tbody tr th {\n",
       "        vertical-align: top;\n",
       "    }\n",
       "\n",
       "    .dataframe thead th {\n",
       "        text-align: right;\n",
       "    }\n",
       "</style>\n",
       "<table border=\"1\" class=\"dataframe\">\n",
       "  <thead>\n",
       "    <tr style=\"text-align: right;\">\n",
       "      <th></th>\n",
       "      <th>Predicted no fast growth</th>\n",
       "      <th>Predicted fast growth</th>\n",
       "    </tr>\n",
       "  </thead>\n",
       "  <tbody>\n",
       "    <tr>\n",
       "      <th>Actual no fast growth</th>\n",
       "      <td>78</td>\n",
       "      <td>1118</td>\n",
       "    </tr>\n",
       "    <tr>\n",
       "      <th>Actual fast growth</th>\n",
       "      <td>8</td>\n",
       "      <td>348</td>\n",
       "    </tr>\n",
       "  </tbody>\n",
       "</table>\n",
       "</div>"
      ],
      "text/plain": [
       "                       Predicted no fast growth  Predicted fast growth\n",
       "Actual no fast growth                        78                   1118\n",
       "Actual fast growth                            8                    348"
      ]
     },
     "execution_count": 622,
     "metadata": {},
     "output_type": "execute_result"
    }
   ],
   "source": [
    "cm_object3_s = confusion_matrix(data2_holdout[\"fast_growth\"], holdout2_treshold, labels=[0, 1])\n",
    "cm3_s = pd.DataFrame(\n",
    "    cm_object3_s,\n",
    "    index=[\"Actual no fast growth\", \"Actual fast growth\"],\n",
    "    columns=[\"Predicted no fast growth\", \"Predicted fast growth\"],\n",
    ")\n",
    "cm3_s"
   ]
  },
  {
   "cell_type": "markdown",
   "id": "0efbd065-2653-4aaa-93d1-c872fa2e08b7",
   "metadata": {},
   "source": [
    "### Comparison of Confusion Tables Across Full, Manufacturing, and Service Datasets"
   ]
  },
  {
   "cell_type": "markdown",
   "id": "9fafe330-fed6-4f0b-96e2-8e4ba27ac1d9",
   "metadata": {},
   "source": [
    "The confusion tables for the full, Manufacturing, and Service datasets, when using the best RF estimators from the original dataset, show some interesting patterns. First, while the model shows high sensitivity across all datasets, meaning it’s good at identifying fast-growing firms, accuracy is relatively low due to a large number of false positives. In the Manufacturing subset, accuracy is 0.487, with 157 correct predictions for fast growth, but it also misclassifies 373 non-fast-growing firms as fast-growing. The Service subset has slightly better accuracy at 0.472, with 348 correct predictions for fast growth, but it still misclassifies 1118 non-fast-growing firms as fast-growing. This shows that although the Manufacturing subset performs a bit better in terms of accuracy and precision, both subsets still struggle with high false positives. This is likely due to the 10:1 loss function prioritizing the identification of fast-growing firms over minimizing false positives. Although this makes the model excellent at finding potential high-growth opportunities, it also means that non-growth firms are often misidentified as high-growth ones, which could lead to some risky business decisions. It would be worth exploring ways to adjust the decision threshold or fine-tune the model further to strike a better balance between sensitivity and specificity."
   ]
  },
  {
   "cell_type": "code",
   "execution_count": null,
   "id": "ac9c18cc-9d9e-4f3b-ba4a-7b24a760a7a8",
   "metadata": {},
   "outputs": [],
   "source": []
  }
 ],
 "metadata": {
  "colab": {
   "provenance": []
  },
  "kernelspec": {
   "display_name": "Python 3 (ipykernel)",
   "language": "python",
   "name": "python3"
  },
  "language_info": {
   "codemirror_mode": {
    "name": "ipython",
    "version": 3
   },
   "file_extension": ".py",
   "mimetype": "text/x-python",
   "name": "python",
   "nbconvert_exporter": "python",
   "pygments_lexer": "ipython3",
   "version": "3.12.4"
  }
 },
 "nbformat": 4,
 "nbformat_minor": 5
}
